{
 "cells": [
  {
   "cell_type": "code",
   "execution_count": 1,
   "id": "96188e6c",
   "metadata": {},
   "outputs": [],
   "source": [
    "import pandas as pd\n",
    "import numpy as np\n",
    "import seaborn as sb\n",
    "import matplotlib.pyplot as plt"
   ]
  },
  {
   "cell_type": "code",
   "execution_count": 2,
   "id": "5d1fe7ba",
   "metadata": {},
   "outputs": [],
   "source": [
    "clean_male_df = pd.read_csv(\"male_complete.csv\")\n",
    "clean_female_df = pd.read_csv(\"female_complete.csv\")"
   ]
  },
  {
   "cell_type": "code",
   "execution_count": 3,
   "id": "bda3dd42",
   "metadata": {},
   "outputs": [],
   "source": [
    "clean_male_df['Medal'].fillna('NA', inplace=True)\n",
    "clean_female_df['Medal'].fillna('NA', inplace=True)"
   ]
  },
  {
   "cell_type": "markdown",
   "id": "7b9ce40d",
   "metadata": {},
   "source": [
    "## Male Medal Tally"
   ]
  },
  {
   "cell_type": "code",
   "execution_count": 4,
   "id": "a7f57bf5",
   "metadata": {},
   "outputs": [],
   "source": [
    "clean_male_df['Medal Count'] = np.where(clean_male_df.loc[:,'Medal'] == 'NA', 0, 1)"
   ]
  },
  {
   "cell_type": "code",
   "execution_count": 5,
   "id": "2f1cc734",
   "metadata": {},
   "outputs": [],
   "source": [
    "#Identifying team events \n",
    "event_medal_m = pd.pivot_table(clean_male_df, index = ['Team', 'Year', 'Event'], columns = 'Medal',\n",
    "                              values = 'Medal Count', aggfunc = 'sum', fill_value = 0).\\\n",
    "                                drop('NA', axis = 1).reset_index()\n",
    "\n",
    "event_medal_m = event_medal_m.loc[event_medal_m['Gold'] > 1, :]\n",
    "\n",
    "team_sports_m = event_medal_m['Event'].unique()"
   ]
  },
  {
   "cell_type": "code",
   "execution_count": 6,
   "id": "9ccce458",
   "metadata": {},
   "outputs": [
    {
     "data": {
      "text/plain": [
       "array([\"Basketball Men's Basketball\", \"Football Men's Football\",\n",
       "       \"Hockey Men's Hockey\",\n",
       "       \"Swimming Men's 4 x 100 metres Freestyle Relay\",\n",
       "       \"Swimming Men's 4 x 200 metres Freestyle Relay\",\n",
       "       \"Athletics Men's 4 x 400 metres Relay\", \"Tennis Men's Doubles\",\n",
       "       \"Badminton Men's Doubles\", \"Archery Men's Team\",\n",
       "       \"Athletics Men's 4 x 100 metres Relay\",\n",
       "       \"Swimming Men's 4 x 100 metres Medley Relay\",\n",
       "       \"Swimming Men's 50 metres Freestyle\"], dtype=object)"
      ]
     },
     "execution_count": 6,
     "metadata": {},
     "output_type": "execute_result"
    }
   ],
   "source": [
    "team_sports_m"
   ]
  },
  {
   "cell_type": "markdown",
   "id": "4a740c76",
   "metadata": {},
   "source": [
    "### Remove Individual Sports with Multiple Winners"
   ]
  },
  {
   "cell_type": "code",
   "execution_count": 7,
   "id": "8475ffaa",
   "metadata": {},
   "outputs": [],
   "source": [
    "remove_sports_m = [\"Swimming Men's 50 metres Freestyle\"]\n",
    "team_sports_m = list(set(team_sports_m) - set(remove_sports_m))"
   ]
  },
  {
   "cell_type": "markdown",
   "id": "656a2f60",
   "metadata": {},
   "source": [
    "### Column to Identify Team/Individual Sport"
   ]
  },
  {
   "cell_type": "code",
   "execution_count": 8,
   "id": "2aa73fd0",
   "metadata": {},
   "outputs": [
    {
     "data": {
      "text/html": [
       "<div>\n",
       "<style scoped>\n",
       "    .dataframe tbody tr th:only-of-type {\n",
       "        vertical-align: middle;\n",
       "    }\n",
       "\n",
       "    .dataframe tbody tr th {\n",
       "        vertical-align: top;\n",
       "    }\n",
       "\n",
       "    .dataframe thead th {\n",
       "        text-align: right;\n",
       "    }\n",
       "</style>\n",
       "<table border=\"1\" class=\"dataframe\">\n",
       "  <thead>\n",
       "    <tr style=\"text-align: right;\">\n",
       "      <th>Year</th>\n",
       "      <th>2000</th>\n",
       "      <th>2004</th>\n",
       "      <th>2008</th>\n",
       "      <th>2012</th>\n",
       "      <th>2016</th>\n",
       "      <th>All</th>\n",
       "    </tr>\n",
       "    <tr>\n",
       "      <th>Team</th>\n",
       "      <th></th>\n",
       "      <th></th>\n",
       "      <th></th>\n",
       "      <th></th>\n",
       "      <th></th>\n",
       "      <th></th>\n",
       "    </tr>\n",
       "  </thead>\n",
       "  <tbody>\n",
       "    <tr>\n",
       "      <th>USA</th>\n",
       "      <td>31.0</td>\n",
       "      <td>39.0</td>\n",
       "      <td>33.0</td>\n",
       "      <td>34.0</td>\n",
       "      <td>39.0</td>\n",
       "      <td>176.0</td>\n",
       "    </tr>\n",
       "    <tr>\n",
       "      <th>China</th>\n",
       "      <td>6.0</td>\n",
       "      <td>6.0</td>\n",
       "      <td>11.0</td>\n",
       "      <td>17.0</td>\n",
       "      <td>14.0</td>\n",
       "      <td>54.0</td>\n",
       "    </tr>\n",
       "    <tr>\n",
       "      <th>Australia</th>\n",
       "      <td>16.0</td>\n",
       "      <td>10.0</td>\n",
       "      <td>12.0</td>\n",
       "      <td>6.0</td>\n",
       "      <td>8.0</td>\n",
       "      <td>52.0</td>\n",
       "    </tr>\n",
       "    <tr>\n",
       "      <th>Russia</th>\n",
       "      <td>10.0</td>\n",
       "      <td>9.0</td>\n",
       "      <td>13.0</td>\n",
       "      <td>8.0</td>\n",
       "      <td>2.0</td>\n",
       "      <td>42.0</td>\n",
       "    </tr>\n",
       "    <tr>\n",
       "      <th>Kenya</th>\n",
       "      <td>6.0</td>\n",
       "      <td>5.0</td>\n",
       "      <td>9.0</td>\n",
       "      <td>7.0</td>\n",
       "      <td>6.0</td>\n",
       "      <td>33.0</td>\n",
       "    </tr>\n",
       "    <tr>\n",
       "      <th>France</th>\n",
       "      <td>2.0</td>\n",
       "      <td>2.0</td>\n",
       "      <td>9.0</td>\n",
       "      <td>9.0</td>\n",
       "      <td>9.0</td>\n",
       "      <td>31.0</td>\n",
       "    </tr>\n",
       "    <tr>\n",
       "      <th>Japan</th>\n",
       "      <td>0.0</td>\n",
       "      <td>7.0</td>\n",
       "      <td>5.0</td>\n",
       "      <td>8.0</td>\n",
       "      <td>8.0</td>\n",
       "      <td>28.0</td>\n",
       "    </tr>\n",
       "    <tr>\n",
       "      <th>UK</th>\n",
       "      <td>4.0</td>\n",
       "      <td>4.0</td>\n",
       "      <td>4.0</td>\n",
       "      <td>7.0</td>\n",
       "      <td>8.0</td>\n",
       "      <td>27.0</td>\n",
       "    </tr>\n",
       "    <tr>\n",
       "      <th>Germany</th>\n",
       "      <td>7.0</td>\n",
       "      <td>3.0</td>\n",
       "      <td>3.0</td>\n",
       "      <td>6.0</td>\n",
       "      <td>5.0</td>\n",
       "      <td>24.0</td>\n",
       "    </tr>\n",
       "    <tr>\n",
       "      <th>South Korea</th>\n",
       "      <td>4.0</td>\n",
       "      <td>5.0</td>\n",
       "      <td>7.0</td>\n",
       "      <td>6.0</td>\n",
       "      <td>2.0</td>\n",
       "      <td>24.0</td>\n",
       "    </tr>\n",
       "    <tr>\n",
       "      <th>Italy</th>\n",
       "      <td>8.0</td>\n",
       "      <td>7.0</td>\n",
       "      <td>2.0</td>\n",
       "      <td>2.0</td>\n",
       "      <td>3.0</td>\n",
       "      <td>22.0</td>\n",
       "    </tr>\n",
       "    <tr>\n",
       "      <th>Jamaica</th>\n",
       "      <td>2.0</td>\n",
       "      <td>1.0</td>\n",
       "      <td>2.0</td>\n",
       "      <td>7.0</td>\n",
       "      <td>5.0</td>\n",
       "      <td>17.0</td>\n",
       "    </tr>\n",
       "    <tr>\n",
       "      <th>Ethiopia</th>\n",
       "      <td>5.0</td>\n",
       "      <td>3.0</td>\n",
       "      <td>4.0</td>\n",
       "      <td>2.0</td>\n",
       "      <td>3.0</td>\n",
       "      <td>17.0</td>\n",
       "    </tr>\n",
       "    <tr>\n",
       "      <th>South Africa</th>\n",
       "      <td>3.0</td>\n",
       "      <td>4.0</td>\n",
       "      <td>1.0</td>\n",
       "      <td>3.0</td>\n",
       "      <td>5.0</td>\n",
       "      <td>16.0</td>\n",
       "    </tr>\n",
       "  </tbody>\n",
       "</table>\n",
       "</div>"
      ],
      "text/plain": [
       "Year          2000  2004  2008  2012  2016    All\n",
       "Team                                             \n",
       "USA           31.0  39.0  33.0  34.0  39.0  176.0\n",
       "China          6.0   6.0  11.0  17.0  14.0   54.0\n",
       "Australia     16.0  10.0  12.0   6.0   8.0   52.0\n",
       "Russia        10.0   9.0  13.0   8.0   2.0   42.0\n",
       "Kenya          6.0   5.0   9.0   7.0   6.0   33.0\n",
       "France         2.0   2.0   9.0   9.0   9.0   31.0\n",
       "Japan          0.0   7.0   5.0   8.0   8.0   28.0\n",
       "UK             4.0   4.0   4.0   7.0   8.0   27.0\n",
       "Germany        7.0   3.0   3.0   6.0   5.0   24.0\n",
       "South Korea    4.0   5.0   7.0   6.0   2.0   24.0\n",
       "Italy          8.0   7.0   2.0   2.0   3.0   22.0\n",
       "Jamaica        2.0   1.0   2.0   7.0   5.0   17.0\n",
       "Ethiopia       5.0   3.0   4.0   2.0   3.0   17.0\n",
       "South Africa   3.0   4.0   1.0   3.0   5.0   16.0"
      ]
     },
     "execution_count": 8,
     "metadata": {},
     "output_type": "execute_result"
    }
   ],
   "source": [
    "team_event_m = clean_male_df['Event'].map(lambda x: x in team_sports_m)\n",
    "single_event_m = [not i for i in team_event_m]\n",
    "\n",
    "medal_m = clean_male_df['Medal Count'] == 1\n",
    "\n",
    "# Put 1 under team event if medal is won and event in team event list\n",
    "clean_male_df['Team Event'] = np.where(team_event_m & medal_m, 1, 0)\n",
    "\n",
    "# Put 1 under single event if medal is won and event not in team event list\n",
    "clean_male_df['Single Event'] = np.where(single_event_m & medal_m, 1, 0)\n",
    "\n",
    "# Add new column event category\n",
    "clean_male_df['Event Category'] = clean_male_df['Single Event'] + clean_male_df['Team Event']\n",
    "\n",
    "# Group data together according to year, team, event and medal\n",
    "# Sum Medal Count and Event Category\n",
    "medal_tally_table_m = clean_male_df.groupby(['Year', 'Team', 'Event', 'Medal'])[['Medal Count', 'Event Category']].\\\n",
    "agg('sum').reset_index()\n",
    "\n",
    "# Ensure that team event medals are only counted once instead of a sum of all members in the team\n",
    "medal_tally_table_m['Medal Count Corrected'] = medal_tally_table_m['Medal Count']/medal_tally_table_m['Event Category']\n",
    "\n",
    "# Group data according to year and team\n",
    "# Sum corrected Medal Count\n",
    "medal_tally_m = medal_tally_table_m.groupby(['Year','Team'])['Medal Count Corrected'].agg('sum').reset_index()\n",
    "\n",
    "# Create pivot table to find total medal count of each Team by Year\n",
    "# Include top 15 countries\n",
    "medal_tally_pivot_m = pd.pivot_table(medal_tally_m, index = 'Team', columns = 'Year',\n",
    "                                     values = 'Medal Count Corrected', aggfunc = 'sum',\n",
    "                                     margins = True).sort_values('All', ascending = False)[1:15]\n",
    "\n",
    "# print total medals won in the given period\n",
    "medal_tally_pivot_m"
   ]
  },
  {
   "cell_type": "code",
   "execution_count": 9,
   "id": "f79bcca4",
   "metadata": {},
   "outputs": [
    {
     "data": {
      "text/plain": [
       "<AxesSubplot:title={'center':'Olympic Performance Comparison (Male)'}, xlabel='Olympic Year', ylabel='Number of Medals'>"
      ]
     },
     "execution_count": 9,
     "metadata": {},
     "output_type": "execute_result"
    },
    {
     "data": {
      "image/png": "[encoded data removed]",
      "text/plain": [
       "<Figure size 720x576 with 1 Axes>"
      ]
     },
     "metadata": {
      "needs_background": "light"
     },
     "output_type": "display_data"
    }
   ],
   "source": [
    "top_5_countries_m = ['USA', 'Australia', 'China', 'Russia', 'Kenya']\n",
    "\n",
    "year_team_medals_m = pd.pivot_table(medal_tally_m, index = 'Year', columns = 'Team',\n",
    "                                    values = 'Medal Count Corrected', aggfunc = 'sum')[top_5_countries_m]\n",
    "\n",
    "year_team_medals_m.plot(linestyle = '-', marker = 'o', alpha = 0.9, figsize = (10,8), linewidth = 2, \n",
    "                        xlabel='Olympic Year', ylabel='Number of Medals', title='Olympic Performance Comparison (Male)')\n",
    "\n"
   ]
  },
  {
   "cell_type": "markdown",
   "id": "c8abed8a",
   "metadata": {},
   "source": [
    "## Female Medal Tally"
   ]
  },
  {
   "cell_type": "code",
   "execution_count": 10,
   "id": "b87402e9",
   "metadata": {},
   "outputs": [],
   "source": [
    "clean_female_df['Medal Count'] = np.where(clean_female_df.loc[:,'Medal'] == 'NA', 0, 1)"
   ]
  },
  {
   "cell_type": "code",
   "execution_count": 11,
   "id": "4ea2227e",
   "metadata": {},
   "outputs": [],
   "source": [
    "event_medal_f = pd.pivot_table(clean_female_df, index = ['Team', 'Year', 'Event'], columns = 'Medal',\n",
    "                               values = 'Medal Count', aggfunc = 'sum',\n",
    "                               fill_value = 0).drop('NA', axis = 1).reset_index()\n",
    "\n",
    "event_medal_f = event_medal_f.loc[event_medal_f['Gold'] > 1, :]\n",
    "\n",
    "team_sports_f = event_medal_f['Event'].unique()"
   ]
  },
  {
   "cell_type": "code",
   "execution_count": 12,
   "id": "4e979fb6",
   "metadata": {},
   "outputs": [
    {
     "data": {
      "text/html": [
       "<div>\n",
       "<style scoped>\n",
       "    .dataframe tbody tr th:only-of-type {\n",
       "        vertical-align: middle;\n",
       "    }\n",
       "\n",
       "    .dataframe tbody tr th {\n",
       "        vertical-align: top;\n",
       "    }\n",
       "\n",
       "    .dataframe thead th {\n",
       "        text-align: right;\n",
       "    }\n",
       "</style>\n",
       "<table border=\"1\" class=\"dataframe\">\n",
       "  <thead>\n",
       "    <tr style=\"text-align: right;\">\n",
       "      <th>Year</th>\n",
       "      <th>2000</th>\n",
       "      <th>2004</th>\n",
       "      <th>2008</th>\n",
       "      <th>2012</th>\n",
       "      <th>2016</th>\n",
       "      <th>All</th>\n",
       "    </tr>\n",
       "    <tr>\n",
       "      <th>Team</th>\n",
       "      <th></th>\n",
       "      <th></th>\n",
       "      <th></th>\n",
       "      <th></th>\n",
       "      <th></th>\n",
       "      <th></th>\n",
       "    </tr>\n",
       "  </thead>\n",
       "  <tbody>\n",
       "    <tr>\n",
       "      <th>USA</th>\n",
       "      <td>26.0</td>\n",
       "      <td>18.0</td>\n",
       "      <td>26.0</td>\n",
       "      <td>34.0</td>\n",
       "      <td>36.0</td>\n",
       "      <td>140.0</td>\n",
       "    </tr>\n",
       "    <tr>\n",
       "      <th>Russia</th>\n",
       "      <td>10.0</td>\n",
       "      <td>19.0</td>\n",
       "      <td>20.0</td>\n",
       "      <td>24.0</td>\n",
       "      <td>4.0</td>\n",
       "      <td>77.0</td>\n",
       "    </tr>\n",
       "    <tr>\n",
       "      <th>China</th>\n",
       "      <td>11.0</td>\n",
       "      <td>14.0</td>\n",
       "      <td>20.0</td>\n",
       "      <td>18.0</td>\n",
       "      <td>9.0</td>\n",
       "      <td>72.0</td>\n",
       "    </tr>\n",
       "    <tr>\n",
       "      <th>Australia</th>\n",
       "      <td>10.0</td>\n",
       "      <td>12.0</td>\n",
       "      <td>14.0</td>\n",
       "      <td>9.0</td>\n",
       "      <td>5.0</td>\n",
       "      <td>50.0</td>\n",
       "    </tr>\n",
       "    <tr>\n",
       "      <th>UK</th>\n",
       "      <td>4.0</td>\n",
       "      <td>5.0</td>\n",
       "      <td>7.0</td>\n",
       "      <td>6.0</td>\n",
       "      <td>8.0</td>\n",
       "      <td>30.0</td>\n",
       "    </tr>\n",
       "    <tr>\n",
       "      <th>Jamaica</th>\n",
       "      <td>7.0</td>\n",
       "      <td>4.0</td>\n",
       "      <td>7.0</td>\n",
       "      <td>5.0</td>\n",
       "      <td>6.0</td>\n",
       "      <td>29.0</td>\n",
       "    </tr>\n",
       "    <tr>\n",
       "      <th>Germany</th>\n",
       "      <td>6.0</td>\n",
       "      <td>8.0</td>\n",
       "      <td>4.0</td>\n",
       "      <td>4.0</td>\n",
       "      <td>4.0</td>\n",
       "      <td>26.0</td>\n",
       "    </tr>\n",
       "    <tr>\n",
       "      <th>Japan</th>\n",
       "      <td>5.0</td>\n",
       "      <td>4.0</td>\n",
       "      <td>1.0</td>\n",
       "      <td>9.0</td>\n",
       "      <td>5.0</td>\n",
       "      <td>24.0</td>\n",
       "    </tr>\n",
       "    <tr>\n",
       "      <th>South Korea</th>\n",
       "      <td>4.0</td>\n",
       "      <td>5.0</td>\n",
       "      <td>7.0</td>\n",
       "      <td>2.0</td>\n",
       "      <td>5.0</td>\n",
       "      <td>23.0</td>\n",
       "    </tr>\n",
       "    <tr>\n",
       "      <th>Netherlands</th>\n",
       "      <td>6.0</td>\n",
       "      <td>6.0</td>\n",
       "      <td>2.0</td>\n",
       "      <td>5.0</td>\n",
       "      <td>3.0</td>\n",
       "      <td>22.0</td>\n",
       "    </tr>\n",
       "    <tr>\n",
       "      <th>Kenya</th>\n",
       "      <td>1.0</td>\n",
       "      <td>2.0</td>\n",
       "      <td>6.0</td>\n",
       "      <td>4.0</td>\n",
       "      <td>7.0</td>\n",
       "      <td>20.0</td>\n",
       "    </tr>\n",
       "    <tr>\n",
       "      <th>Ukraine</th>\n",
       "      <td>5.0</td>\n",
       "      <td>6.0</td>\n",
       "      <td>6.0</td>\n",
       "      <td>3.0</td>\n",
       "      <td>0.0</td>\n",
       "      <td>20.0</td>\n",
       "    </tr>\n",
       "    <tr>\n",
       "      <th>Ethiopia</th>\n",
       "      <td>3.0</td>\n",
       "      <td>4.0</td>\n",
       "      <td>3.0</td>\n",
       "      <td>5.0</td>\n",
       "      <td>5.0</td>\n",
       "      <td>20.0</td>\n",
       "    </tr>\n",
       "    <tr>\n",
       "      <th>Belarus</th>\n",
       "      <td>4.0</td>\n",
       "      <td>3.0</td>\n",
       "      <td>4.0</td>\n",
       "      <td>6.0</td>\n",
       "      <td>2.0</td>\n",
       "      <td>19.0</td>\n",
       "    </tr>\n",
       "  </tbody>\n",
       "</table>\n",
       "</div>"
      ],
      "text/plain": [
       "Year         2000  2004  2008  2012  2016    All\n",
       "Team                                            \n",
       "USA          26.0  18.0  26.0  34.0  36.0  140.0\n",
       "Russia       10.0  19.0  20.0  24.0   4.0   77.0\n",
       "China        11.0  14.0  20.0  18.0   9.0   72.0\n",
       "Australia    10.0  12.0  14.0   9.0   5.0   50.0\n",
       "UK            4.0   5.0   7.0   6.0   8.0   30.0\n",
       "Jamaica       7.0   4.0   7.0   5.0   6.0   29.0\n",
       "Germany       6.0   8.0   4.0   4.0   4.0   26.0\n",
       "Japan         5.0   4.0   1.0   9.0   5.0   24.0\n",
       "South Korea   4.0   5.0   7.0   2.0   5.0   23.0\n",
       "Netherlands   6.0   6.0   2.0   5.0   3.0   22.0\n",
       "Kenya         1.0   2.0   6.0   4.0   7.0   20.0\n",
       "Ukraine       5.0   6.0   6.0   3.0   0.0   20.0\n",
       "Ethiopia      3.0   4.0   3.0   5.0   5.0   20.0\n",
       "Belarus       4.0   3.0   4.0   6.0   2.0   19.0"
      ]
     },
     "execution_count": 12,
     "metadata": {},
     "output_type": "execute_result"
    }
   ],
   "source": [
    "team_event_f = clean_female_df['Event'].map(lambda x: x in team_sports_f)\n",
    "single_event_f = [not i for i in team_event_f]\n",
    "\n",
    "medal_f = clean_female_df['Medal Count'] == 1\n",
    "\n",
    "clean_female_df['Team Event'] = np.where(team_event_f & medal_f, 1, 0)\n",
    "\n",
    "clean_female_df['Single Event'] = np.where(single_event_f & medal_f, 1, 0)\n",
    "\n",
    "clean_female_df['Event Category'] = clean_female_df['Single Event'] + \\\n",
    "clean_female_df['Team Event']\n",
    "\n",
    "medal_tally_table_f = clean_female_df.\\\n",
    "groupby(['Year', 'Team', 'Event', 'Medal'])[['Medal Count', 'Event Category']].\\\n",
    "agg('sum').reset_index()\n",
    "\n",
    "medal_tally_table_f['Medal Count Corrected'] = medal_tally_table_f['Medal Count']/medal_tally_table_f['Event Category']\n",
    "\n",
    "medal_tally_f = medal_tally_table_f.groupby(['Year','Team'])['Medal Count Corrected'].agg('sum').reset_index()\n",
    "\n",
    "medal_tally_pivot_f = pd.pivot_table(medal_tally_f, index = 'Team', columns = 'Year', \n",
    "                                     values = 'Medal Count Corrected', aggfunc = 'sum',\n",
    "                                     margins = True).sort_values('All', ascending = False)[1:15]\n",
    "\n",
    "# print total medals won in the given period\n",
    "medal_tally_pivot_f"
   ]
  },
  {
   "cell_type": "code",
   "execution_count": 13,
   "id": "7629d4b5",
   "metadata": {},
   "outputs": [
    {
     "data": {
      "text/plain": [
       "<AxesSubplot:title={'center':'Olympic Performance Comparison (Female)'}, xlabel='Olympic Year', ylabel='Number of Medals'>"
      ]
     },
     "execution_count": 13,
     "metadata": {},
     "output_type": "execute_result"
    },
    {
     "data": {
      "image/png": "[encoded data removed]",
      "text/plain": [
       "<Figure size 720x576 with 1 Axes>"
      ]
     },
     "metadata": {
      "needs_background": "light"
     },
     "output_type": "display_data"
    }
   ],
   "source": [
    "top_5_countries_f = ['USA', 'Russia', 'China', 'Australia', 'Jamaica']\n",
    "\n",
    "year_team_medals_f = pd.pivot_table(medal_tally_f, index = 'Year', columns = 'Team',\n",
    "                                    values = 'Medal Count Corrected', aggfunc = 'sum')[top_5_countries_f]\n",
    "\n",
    "year_team_medals_f.plot(linestyle = '-', marker = 'o', alpha = 0.9, figsize = (10,8), linewidth = 2, \n",
    "                        xlabel='Olympic Year', ylabel='Number of Medals', title='Olympic Performance Comparison (Female)')"
   ]
  },
  {
   "cell_type": "markdown",
   "id": "8da08352",
   "metadata": {},
   "source": [
    "## Medal Table for Male Athletes"
   ]
  },
  {
   "cell_type": "code",
   "execution_count": 14,
   "id": "e76e8bfc",
   "metadata": {},
   "outputs": [
    {
     "data": {
      "text/html": [
       "<div>\n",
       "<style scoped>\n",
       "    .dataframe tbody tr th:only-of-type {\n",
       "        vertical-align: middle;\n",
       "    }\n",
       "\n",
       "    .dataframe tbody tr th {\n",
       "        vertical-align: top;\n",
       "    }\n",
       "\n",
       "    .dataframe thead th {\n",
       "        text-align: right;\n",
       "    }\n",
       "</style>\n",
       "<table border=\"1\" class=\"dataframe\">\n",
       "  <thead>\n",
       "    <tr style=\"text-align: right;\">\n",
       "      <th>Medal</th>\n",
       "      <th>Gold</th>\n",
       "      <th>Silver</th>\n",
       "      <th>Bronze</th>\n",
       "      <th>All</th>\n",
       "    </tr>\n",
       "    <tr>\n",
       "      <th>Team</th>\n",
       "      <th></th>\n",
       "      <th></th>\n",
       "      <th></th>\n",
       "      <th></th>\n",
       "    </tr>\n",
       "  </thead>\n",
       "  <tbody>\n",
       "    <tr>\n",
       "      <th>USA</th>\n",
       "      <td>73</td>\n",
       "      <td>58</td>\n",
       "      <td>45</td>\n",
       "      <td>176.0</td>\n",
       "    </tr>\n",
       "    <tr>\n",
       "      <th>China</th>\n",
       "      <td>26</td>\n",
       "      <td>15</td>\n",
       "      <td>13</td>\n",
       "      <td>54.0</td>\n",
       "    </tr>\n",
       "    <tr>\n",
       "      <th>Australia</th>\n",
       "      <td>12</td>\n",
       "      <td>21</td>\n",
       "      <td>19</td>\n",
       "      <td>52.0</td>\n",
       "    </tr>\n",
       "    <tr>\n",
       "      <th>Russia</th>\n",
       "      <td>8</td>\n",
       "      <td>10</td>\n",
       "      <td>24</td>\n",
       "      <td>42.0</td>\n",
       "    </tr>\n",
       "    <tr>\n",
       "      <th>Kenya</th>\n",
       "      <td>12</td>\n",
       "      <td>10</td>\n",
       "      <td>11</td>\n",
       "      <td>33.0</td>\n",
       "    </tr>\n",
       "    <tr>\n",
       "      <th>France</th>\n",
       "      <td>5</td>\n",
       "      <td>13</td>\n",
       "      <td>13</td>\n",
       "      <td>31.0</td>\n",
       "    </tr>\n",
       "    <tr>\n",
       "      <th>Japan</th>\n",
       "      <td>6</td>\n",
       "      <td>9</td>\n",
       "      <td>13</td>\n",
       "      <td>28.0</td>\n",
       "    </tr>\n",
       "    <tr>\n",
       "      <th>UK</th>\n",
       "      <td>10</td>\n",
       "      <td>10</td>\n",
       "      <td>7</td>\n",
       "      <td>27.0</td>\n",
       "    </tr>\n",
       "    <tr>\n",
       "      <th>Germany</th>\n",
       "      <td>7</td>\n",
       "      <td>10</td>\n",
       "      <td>7</td>\n",
       "      <td>24.0</td>\n",
       "    </tr>\n",
       "    <tr>\n",
       "      <th>South Korea</th>\n",
       "      <td>10</td>\n",
       "      <td>9</td>\n",
       "      <td>5</td>\n",
       "      <td>24.0</td>\n",
       "    </tr>\n",
       "    <tr>\n",
       "      <th>Italy</th>\n",
       "      <td>9</td>\n",
       "      <td>5</td>\n",
       "      <td>8</td>\n",
       "      <td>22.0</td>\n",
       "    </tr>\n",
       "    <tr>\n",
       "      <th>Ethiopia</th>\n",
       "      <td>6</td>\n",
       "      <td>5</td>\n",
       "      <td>6</td>\n",
       "      <td>17.0</td>\n",
       "    </tr>\n",
       "    <tr>\n",
       "      <th>Jamaica</th>\n",
       "      <td>9</td>\n",
       "      <td>5</td>\n",
       "      <td>3</td>\n",
       "      <td>17.0</td>\n",
       "    </tr>\n",
       "    <tr>\n",
       "      <th>South Africa</th>\n",
       "      <td>4</td>\n",
       "      <td>9</td>\n",
       "      <td>3</td>\n",
       "      <td>16.0</td>\n",
       "    </tr>\n",
       "  </tbody>\n",
       "</table>\n",
       "</div>"
      ],
      "text/plain": [
       "Medal         Gold  Silver  Bronze    All\n",
       "Team                                     \n",
       "USA             73      58      45  176.0\n",
       "China           26      15      13   54.0\n",
       "Australia       12      21      19   52.0\n",
       "Russia           8      10      24   42.0\n",
       "Kenya           12      10      11   33.0\n",
       "France           5      13      13   31.0\n",
       "Japan            6       9      13   28.0\n",
       "UK              10      10       7   27.0\n",
       "Germany          7      10       7   24.0\n",
       "South Korea     10       9       5   24.0\n",
       "Italy            9       5       8   22.0\n",
       "Ethiopia         6       5       6   17.0\n",
       "Jamaica          9       5       3   17.0\n",
       "South Africa     4       9       3   16.0"
      ]
     },
     "execution_count": 14,
     "metadata": {},
     "output_type": "execute_result"
    }
   ],
   "source": [
    "m_medal_table = pd.pivot_table(medal_tally_table_m, index = 'Team', columns = 'Medal',\n",
    "                               values = 'Medal Count Corrected', aggfunc = 'sum',\n",
    "                               fill_value = 0, margins = True).drop('NA', axis = 1).sort_values('All', ascending = False)[1:15]\n",
    "\n",
    "column_names = ['Gold', 'Silver', 'Bronze', 'All']\n",
    "m_medal_table=m_medal_table.reindex(columns = column_names)\n",
    "m_medal_table"
   ]
  },
  {
   "cell_type": "code",
   "execution_count": 15,
   "id": "eaa1a189",
   "metadata": {},
   "outputs": [
    {
     "data": {
      "text/plain": [
       "<AxesSubplot:title={'center':'Medal Count (Male)'}, xlabel='Team'>"
      ]
     },
     "execution_count": 15,
     "metadata": {},
     "output_type": "execute_result"
    },
    {
     "data": {
      "image/png": "[encoded data removed]",
      "text/plain": [
       "<Figure size 432x288 with 1 Axes>"
      ]
     },
     "metadata": {
      "needs_background": "light"
     },
     "output_type": "display_data"
    }
   ],
   "source": [
    "male_top_5 = pd.DataFrame(m_medal_table.head(5))\n",
    "male_top_5.drop('All', axis=1, inplace=True)\n",
    "male_top_5.plot(kind='bar', stacked=True, title = 'Medal Count (Male)')"
   ]
  },
  {
   "cell_type": "markdown",
   "id": "da3d7e7d",
   "metadata": {},
   "source": [
    "## Medal Table for Female Athletes"
   ]
  },
  {
   "cell_type": "code",
   "execution_count": 16,
   "id": "1b959882",
   "metadata": {},
   "outputs": [
    {
     "data": {
      "text/html": [
       "<div>\n",
       "<style scoped>\n",
       "    .dataframe tbody tr th:only-of-type {\n",
       "        vertical-align: middle;\n",
       "    }\n",
       "\n",
       "    .dataframe tbody tr th {\n",
       "        vertical-align: top;\n",
       "    }\n",
       "\n",
       "    .dataframe thead th {\n",
       "        text-align: right;\n",
       "    }\n",
       "</style>\n",
       "<table border=\"1\" class=\"dataframe\">\n",
       "  <thead>\n",
       "    <tr style=\"text-align: right;\">\n",
       "      <th>Medal</th>\n",
       "      <th>Gold</th>\n",
       "      <th>Silver</th>\n",
       "      <th>Bronze</th>\n",
       "      <th>All</th>\n",
       "    </tr>\n",
       "    <tr>\n",
       "      <th>Team</th>\n",
       "      <th></th>\n",
       "      <th></th>\n",
       "      <th></th>\n",
       "      <th></th>\n",
       "    </tr>\n",
       "  </thead>\n",
       "  <tbody>\n",
       "    <tr>\n",
       "      <th>USA</th>\n",
       "      <td>62</td>\n",
       "      <td>39</td>\n",
       "      <td>39</td>\n",
       "      <td>140.0</td>\n",
       "    </tr>\n",
       "    <tr>\n",
       "      <th>Russia</th>\n",
       "      <td>20</td>\n",
       "      <td>34</td>\n",
       "      <td>23</td>\n",
       "      <td>77.0</td>\n",
       "    </tr>\n",
       "    <tr>\n",
       "      <th>China</th>\n",
       "      <td>38</td>\n",
       "      <td>15</td>\n",
       "      <td>19</td>\n",
       "      <td>72.0</td>\n",
       "    </tr>\n",
       "    <tr>\n",
       "      <th>Australia</th>\n",
       "      <td>16</td>\n",
       "      <td>21</td>\n",
       "      <td>13</td>\n",
       "      <td>50.0</td>\n",
       "    </tr>\n",
       "    <tr>\n",
       "      <th>UK</th>\n",
       "      <td>8</td>\n",
       "      <td>8</td>\n",
       "      <td>14</td>\n",
       "      <td>30.0</td>\n",
       "    </tr>\n",
       "    <tr>\n",
       "      <th>Jamaica</th>\n",
       "      <td>8</td>\n",
       "      <td>11</td>\n",
       "      <td>10</td>\n",
       "      <td>29.0</td>\n",
       "    </tr>\n",
       "    <tr>\n",
       "      <th>Germany</th>\n",
       "      <td>5</td>\n",
       "      <td>6</td>\n",
       "      <td>15</td>\n",
       "      <td>26.0</td>\n",
       "    </tr>\n",
       "    <tr>\n",
       "      <th>Japan</th>\n",
       "      <td>5</td>\n",
       "      <td>6</td>\n",
       "      <td>13</td>\n",
       "      <td>24.0</td>\n",
       "    </tr>\n",
       "    <tr>\n",
       "      <th>South Korea</th>\n",
       "      <td>11</td>\n",
       "      <td>6</td>\n",
       "      <td>6</td>\n",
       "      <td>23.0</td>\n",
       "    </tr>\n",
       "    <tr>\n",
       "      <th>Netherlands</th>\n",
       "      <td>10</td>\n",
       "      <td>8</td>\n",
       "      <td>4</td>\n",
       "      <td>22.0</td>\n",
       "    </tr>\n",
       "    <tr>\n",
       "      <th>Ethiopia</th>\n",
       "      <td>8</td>\n",
       "      <td>3</td>\n",
       "      <td>9</td>\n",
       "      <td>20.0</td>\n",
       "    </tr>\n",
       "    <tr>\n",
       "      <th>Kenya</th>\n",
       "      <td>5</td>\n",
       "      <td>11</td>\n",
       "      <td>4</td>\n",
       "      <td>20.0</td>\n",
       "    </tr>\n",
       "    <tr>\n",
       "      <th>Ukraine</th>\n",
       "      <td>6</td>\n",
       "      <td>5</td>\n",
       "      <td>9</td>\n",
       "      <td>20.0</td>\n",
       "    </tr>\n",
       "    <tr>\n",
       "      <th>Belarus</th>\n",
       "      <td>5</td>\n",
       "      <td>5</td>\n",
       "      <td>9</td>\n",
       "      <td>19.0</td>\n",
       "    </tr>\n",
       "  </tbody>\n",
       "</table>\n",
       "</div>"
      ],
      "text/plain": [
       "Medal        Gold  Silver  Bronze    All\n",
       "Team                                    \n",
       "USA            62      39      39  140.0\n",
       "Russia         20      34      23   77.0\n",
       "China          38      15      19   72.0\n",
       "Australia      16      21      13   50.0\n",
       "UK              8       8      14   30.0\n",
       "Jamaica         8      11      10   29.0\n",
       "Germany         5       6      15   26.0\n",
       "Japan           5       6      13   24.0\n",
       "South Korea    11       6       6   23.0\n",
       "Netherlands    10       8       4   22.0\n",
       "Ethiopia        8       3       9   20.0\n",
       "Kenya           5      11       4   20.0\n",
       "Ukraine         6       5       9   20.0\n",
       "Belarus         5       5       9   19.0"
      ]
     },
     "execution_count": 16,
     "metadata": {},
     "output_type": "execute_result"
    }
   ],
   "source": [
    "f_medal_table = pd.pivot_table(medal_tally_table_f, index = 'Team', columns = 'Medal',\n",
    "                               values = 'Medal Count Corrected', aggfunc = 'sum',\n",
    "                               fill_value = 0, margins = True).drop('NA', axis = 1).sort_values('All', ascending = False)[1:15]\n",
    "\n",
    "column_names = ['Gold', 'Silver', 'Bronze', 'All']\n",
    "f_medal_table = f_medal_table.reindex(columns = column_names)\n",
    "f_medal_table"
   ]
  },
  {
   "cell_type": "code",
   "execution_count": 17,
   "id": "3fa957e6",
   "metadata": {},
   "outputs": [
    {
     "data": {
      "text/plain": [
       "<AxesSubplot:title={'center':'Medal Count (Female)'}, xlabel='Team'>"
      ]
     },
     "execution_count": 17,
     "metadata": {},
     "output_type": "execute_result"
    },
    {
     "data": {
      "image/png": "[encoded data removed]",
      "text/plain": [
       "<Figure size 432x288 with 1 Axes>"
      ]
     },
     "metadata": {
      "needs_background": "light"
     },
     "output_type": "display_data"
    }
   ],
   "source": [
    "female_top_5 = pd.DataFrame(f_medal_table.head(5))\n",
    "female_top_5.drop('All', axis=1, inplace=True)\n",
    "female_top_5.plot(kind='bar', stacked=True, title = 'Medal Count (Female)')"
   ]
  },
  {
   "cell_type": "markdown",
   "id": "f3eb6188",
   "metadata": {},
   "source": [
    "## Country Performance by Year"
   ]
  },
  {
   "cell_type": "code",
   "execution_count": 18,
   "id": "70548287",
   "metadata": {},
   "outputs": [],
   "source": [
    "#function to create new dataframe consisting of medal information according to year\n",
    "def top_countries(data):\n",
    "    sport_df = pd.DataFrame(columns=[\"Country\", \"Gold\", \"Silver\", \"Bronze\", \"Total\", \"GDP\", \"GDP Per Capita\"])\n",
    "    countries = list(data[\"Team\"].unique())\n",
    "    country_col = {\"Country\": countries}\n",
    "    sport_df = sport_df.append(pd.DataFrame(country_col))\n",
    "    sport_df[\"Gold\"] = sport_df[\"Gold\"].fillna(0)\n",
    "    sport_df[\"Silver\"] = sport_df[\"Silver\"].fillna(0)\n",
    "    sport_df[\"Bronze\"] = sport_df[\"Bronze\"].fillna(0)\n",
    "    sport_df[\"Total\"] = 0\n",
    "    sport_df[\"GDP\"] = 0 \n",
    "    sport_df[\"GDP Per Capita\"] = 0 \n",
    "    for index, row in data.iterrows():\n",
    "        country = row[16]\n",
    "        gdp = row[19]\n",
    "        gdppc = row[24]\n",
    "        sport_df.loc[sport_df['Country']==country, 'GDP'] = gdp\n",
    "        sport_df.loc[sport_df['Country']==country, 'GDP Per Capita'] = gdppc\n",
    "        med = row[15]\n",
    "        if med!=\"NA\":\n",
    "            sport_df.loc[sport_df[\"Country\"]==row[16], med] += 1\n",
    "    for index, row in sport_df.iterrows():\n",
    "        total = row[1]+row[2]+row[3]\n",
    "        sport_df.loc[index, \"Total\"] = total\n",
    "\n",
    "    return sport_df"
   ]
  },
  {
   "cell_type": "code",
   "execution_count": 19,
   "id": "787fa757",
   "metadata": {},
   "outputs": [],
   "source": [
    "#function to plot linear regression line\n",
    "from sklearn.linear_model import LinearRegression\n",
    "def plot_medal_gdp(data):\n",
    "    Y = pd.DataFrame(data['Total'])\n",
    "    x = pd.DataFrame(data['GDP'])\n",
    "    X = np.log(x)\n",
    "    linreg = LinearRegression()\n",
    "    linreg.fit(X, Y)\n",
    "    Y_pred = linreg.predict(X)\n",
    "\n",
    "    plt.scatter(X, Y)\n",
    "    plt.plot(X, Y_pred, color='red')\n",
    "    plt.show()\n",
    "    print('Correlation Coefficient = ', data.GDP.corr(data.Total))\n",
    "    print('-'*50)\n",
    "    \n",
    "def plot_medal_gdppc(data):\n",
    "    Y = pd.DataFrame(data['Total'])\n",
    "    x = pd.DataFrame(data['GDP Per Capita'])\n",
    "    X = np.log(x)\n",
    "    linreg = LinearRegression()\n",
    "    linreg.fit(X, Y)\n",
    "    Y_pred = linreg.predict(X)\n",
    "\n",
    "    plt.scatter(X, Y)\n",
    "    plt.plot(X, Y_pred, color='red')\n",
    "    plt.show()\n",
    "    print('Correlation Coefficient = ', data[\"GDP Per Capita\"].corr(data.Total))\n",
    "    print('-'*50)\n"
   ]
  },
  {
   "cell_type": "code",
   "execution_count": 20,
   "id": "cea4e969",
   "metadata": {},
   "outputs": [],
   "source": [
    "male_data_2000 = clean_male_df[clean_male_df['Year']==2000]\n",
    "medal_gdp_2000_m = top_countries(male_data_2000)\n",
    "male_data_2004 = clean_male_df[clean_male_df['Year']==2004]\n",
    "medal_gdp_2004_m = top_countries(male_data_2004)\n",
    "male_data_2008 = clean_male_df[clean_male_df['Year']==2008]\n",
    "medal_gdp_2008_m = top_countries(male_data_2008)\n",
    "male_data_2012 = clean_male_df[clean_male_df['Year']==2012]\n",
    "medal_gdp_2012_m = top_countries(male_data_2012)\n",
    "male_data_2016 = clean_male_df[clean_male_df['Year']==2016]\n",
    "medal_gdp_2016_m = top_countries(male_data_2016)"
   ]
  },
  {
   "cell_type": "markdown",
   "id": "ba253715",
   "metadata": {},
   "source": [
    "## Top Countries by Year (Male Athletes)"
   ]
  },
  {
   "cell_type": "code",
   "execution_count": 21,
   "id": "f3df6e63",
   "metadata": {},
   "outputs": [
    {
     "name": "stdout",
     "output_type": "stream",
     "text": [
      "Year 2000 (Male)\n"
     ]
    },
    {
     "data": {
      "text/html": [
       "<div>\n",
       "<style scoped>\n",
       "    .dataframe tbody tr th:only-of-type {\n",
       "        vertical-align: middle;\n",
       "    }\n",
       "\n",
       "    .dataframe tbody tr th {\n",
       "        vertical-align: top;\n",
       "    }\n",
       "\n",
       "    .dataframe thead th {\n",
       "        text-align: right;\n",
       "    }\n",
       "</style>\n",
       "<table border=\"1\" class=\"dataframe\">\n",
       "  <thead>\n",
       "    <tr style=\"text-align: right;\">\n",
       "      <th></th>\n",
       "      <th>Country</th>\n",
       "      <th>Gold</th>\n",
       "      <th>Silver</th>\n",
       "      <th>Bronze</th>\n",
       "      <th>Total</th>\n",
       "      <th>GDP</th>\n",
       "      <th>GDP Per Capita</th>\n",
       "    </tr>\n",
       "  </thead>\n",
       "  <tbody>\n",
       "    <tr>\n",
       "      <th>53</th>\n",
       "      <td>USA</td>\n",
       "      <td>35</td>\n",
       "      <td>21</td>\n",
       "      <td>10</td>\n",
       "      <td>66</td>\n",
       "      <td>10300000000000</td>\n",
       "      <td>36503.799230</td>\n",
       "    </tr>\n",
       "    <tr>\n",
       "      <th>54</th>\n",
       "      <td>Australia</td>\n",
       "      <td>15</td>\n",
       "      <td>15</td>\n",
       "      <td>19</td>\n",
       "      <td>49</td>\n",
       "      <td>415000000000</td>\n",
       "      <td>21667.623870</td>\n",
       "    </tr>\n",
       "    <tr>\n",
       "      <th>0</th>\n",
       "      <td>Netherlands</td>\n",
       "      <td>18</td>\n",
       "      <td>0</td>\n",
       "      <td>7</td>\n",
       "      <td>25</td>\n",
       "      <td>413000000000</td>\n",
       "      <td>25933.230530</td>\n",
       "    </tr>\n",
       "    <tr>\n",
       "      <th>85</th>\n",
       "      <td>South Korea</td>\n",
       "      <td>3</td>\n",
       "      <td>18</td>\n",
       "      <td>2</td>\n",
       "      <td>23</td>\n",
       "      <td>562000000000</td>\n",
       "      <td>11954.903210</td>\n",
       "    </tr>\n",
       "    <tr>\n",
       "      <th>32</th>\n",
       "      <td>Spain</td>\n",
       "      <td>0</td>\n",
       "      <td>17</td>\n",
       "      <td>2</td>\n",
       "      <td>19</td>\n",
       "      <td>595000000000</td>\n",
       "      <td>14666.781570</td>\n",
       "    </tr>\n",
       "    <tr>\n",
       "      <th>147</th>\n",
       "      <td>Cameroon</td>\n",
       "      <td>18</td>\n",
       "      <td>0</td>\n",
       "      <td>0</td>\n",
       "      <td>18</td>\n",
       "      <td>10083937740</td>\n",
       "      <td>660.192697</td>\n",
       "    </tr>\n",
       "    <tr>\n",
       "      <th>124</th>\n",
       "      <td>Chile</td>\n",
       "      <td>0</td>\n",
       "      <td>0</td>\n",
       "      <td>17</td>\n",
       "      <td>17</td>\n",
       "      <td>77860932152</td>\n",
       "      <td>5101.368479</td>\n",
       "    </tr>\n",
       "  </tbody>\n",
       "</table>\n",
       "</div>"
      ],
      "text/plain": [
       "         Country  Gold  Silver  Bronze  Total             GDP  GDP Per Capita\n",
       "53           USA    35      21      10     66  10300000000000    36503.799230\n",
       "54     Australia    15      15      19     49    415000000000    21667.623870\n",
       "0    Netherlands    18       0       7     25    413000000000    25933.230530\n",
       "85   South Korea     3      18       2     23    562000000000    11954.903210\n",
       "32         Spain     0      17       2     19    595000000000    14666.781570\n",
       "147     Cameroon    18       0       0     18     10083937740      660.192697\n",
       "124        Chile     0       0      17     17     77860932152     5101.368479"
      ]
     },
     "metadata": {},
     "output_type": "display_data"
    },
    {
     "name": "stdout",
     "output_type": "stream",
     "text": [
      "----------------------------------------------------------------------------------------------------\n",
      "Year 2004 (Male)\n"
     ]
    },
    {
     "data": {
      "text/html": [
       "<div>\n",
       "<style scoped>\n",
       "    .dataframe tbody tr th:only-of-type {\n",
       "        vertical-align: middle;\n",
       "    }\n",
       "\n",
       "    .dataframe tbody tr th {\n",
       "        vertical-align: top;\n",
       "    }\n",
       "\n",
       "    .dataframe thead th {\n",
       "        text-align: right;\n",
       "    }\n",
       "</style>\n",
       "<table border=\"1\" class=\"dataframe\">\n",
       "  <thead>\n",
       "    <tr style=\"text-align: right;\">\n",
       "      <th></th>\n",
       "      <th>Country</th>\n",
       "      <th>Gold</th>\n",
       "      <th>Silver</th>\n",
       "      <th>Bronze</th>\n",
       "      <th>Total</th>\n",
       "      <th>GDP</th>\n",
       "      <th>GDP Per Capita</th>\n",
       "    </tr>\n",
       "  </thead>\n",
       "  <tbody>\n",
       "    <tr>\n",
       "      <th>58</th>\n",
       "      <td>USA</td>\n",
       "      <td>33</td>\n",
       "      <td>19</td>\n",
       "      <td>25</td>\n",
       "      <td>77</td>\n",
       "      <td>12300000000000</td>\n",
       "      <td>42007.436630</td>\n",
       "    </tr>\n",
       "    <tr>\n",
       "      <th>31</th>\n",
       "      <td>Italy</td>\n",
       "      <td>3</td>\n",
       "      <td>12</td>\n",
       "      <td>24</td>\n",
       "      <td>39</td>\n",
       "      <td>1800000000000</td>\n",
       "      <td>31203.775620</td>\n",
       "    </tr>\n",
       "    <tr>\n",
       "      <th>49</th>\n",
       "      <td>Australia</td>\n",
       "      <td>19</td>\n",
       "      <td>12</td>\n",
       "      <td>3</td>\n",
       "      <td>34</td>\n",
       "      <td>613000000000</td>\n",
       "      <td>30455.995310</td>\n",
       "    </tr>\n",
       "    <tr>\n",
       "      <th>109</th>\n",
       "      <td>Argentina</td>\n",
       "      <td>28</td>\n",
       "      <td>0</td>\n",
       "      <td>0</td>\n",
       "      <td>28</td>\n",
       "      <td>165000000000</td>\n",
       "      <td>4260.406805</td>\n",
       "    </tr>\n",
       "    <tr>\n",
       "      <th>91</th>\n",
       "      <td>Netherlands</td>\n",
       "      <td>1</td>\n",
       "      <td>22</td>\n",
       "      <td>0</td>\n",
       "      <td>23</td>\n",
       "      <td>651000000000</td>\n",
       "      <td>39983.345800</td>\n",
       "    </tr>\n",
       "    <tr>\n",
       "      <th>57</th>\n",
       "      <td>Germany</td>\n",
       "      <td>0</td>\n",
       "      <td>7</td>\n",
       "      <td>16</td>\n",
       "      <td>23</td>\n",
       "      <td>2820000000000</td>\n",
       "      <td>34175.082580</td>\n",
       "    </tr>\n",
       "    <tr>\n",
       "      <th>48</th>\n",
       "      <td>Paraguay</td>\n",
       "      <td>0</td>\n",
       "      <td>17</td>\n",
       "      <td>0</td>\n",
       "      <td>17</td>\n",
       "      <td>8033877360</td>\n",
       "      <td>1408.527976</td>\n",
       "    </tr>\n",
       "  </tbody>\n",
       "</table>\n",
       "</div>"
      ],
      "text/plain": [
       "         Country  Gold  Silver  Bronze  Total             GDP  GDP Per Capita\n",
       "58           USA    33      19      25     77  12300000000000    42007.436630\n",
       "31         Italy     3      12      24     39   1800000000000    31203.775620\n",
       "49     Australia    19      12       3     34    613000000000    30455.995310\n",
       "109    Argentina    28       0       0     28    165000000000     4260.406805\n",
       "91   Netherlands     1      22       0     23    651000000000    39983.345800\n",
       "57       Germany     0       7      16     23   2820000000000    34175.082580\n",
       "48      Paraguay     0      17       0     17      8033877360     1408.527976"
      ]
     },
     "metadata": {},
     "output_type": "display_data"
    },
    {
     "name": "stdout",
     "output_type": "stream",
     "text": [
      "----------------------------------------------------------------------------------------------------\n",
      "Year 2008 (Male)\n"
     ]
    },
    {
     "data": {
      "text/html": [
       "<div>\n",
       "<style scoped>\n",
       "    .dataframe tbody tr th:only-of-type {\n",
       "        vertical-align: middle;\n",
       "    }\n",
       "\n",
       "    .dataframe tbody tr th {\n",
       "        vertical-align: top;\n",
       "    }\n",
       "\n",
       "    .dataframe thead th {\n",
       "        text-align: right;\n",
       "    }\n",
       "</style>\n",
       "<table border=\"1\" class=\"dataframe\">\n",
       "  <thead>\n",
       "    <tr style=\"text-align: right;\">\n",
       "      <th></th>\n",
       "      <th>Country</th>\n",
       "      <th>Gold</th>\n",
       "      <th>Silver</th>\n",
       "      <th>Bronze</th>\n",
       "      <th>Total</th>\n",
       "      <th>GDP</th>\n",
       "      <th>GDP Per Capita</th>\n",
       "    </tr>\n",
       "  </thead>\n",
       "  <tbody>\n",
       "    <tr>\n",
       "      <th>5</th>\n",
       "      <td>USA</td>\n",
       "      <td>50</td>\n",
       "      <td>7</td>\n",
       "      <td>12</td>\n",
       "      <td>69</td>\n",
       "      <td>14700000000000</td>\n",
       "      <td>48340.321230</td>\n",
       "    </tr>\n",
       "    <tr>\n",
       "      <th>47</th>\n",
       "      <td>Australia</td>\n",
       "      <td>1</td>\n",
       "      <td>12</td>\n",
       "      <td>32</td>\n",
       "      <td>45</td>\n",
       "      <td>1060000000000</td>\n",
       "      <td>49884.230940</td>\n",
       "    </tr>\n",
       "    <tr>\n",
       "      <th>41</th>\n",
       "      <td>Argentina</td>\n",
       "      <td>18</td>\n",
       "      <td>0</td>\n",
       "      <td>12</td>\n",
       "      <td>30</td>\n",
       "      <td>362000000000</td>\n",
       "      <td>8964.303722</td>\n",
       "    </tr>\n",
       "    <tr>\n",
       "      <th>18</th>\n",
       "      <td>Spain</td>\n",
       "      <td>1</td>\n",
       "      <td>28</td>\n",
       "      <td>0</td>\n",
       "      <td>29</td>\n",
       "      <td>1640000000000</td>\n",
       "      <td>35687.779460</td>\n",
       "    </tr>\n",
       "    <tr>\n",
       "      <th>17</th>\n",
       "      <td>Brazil</td>\n",
       "      <td>1</td>\n",
       "      <td>0</td>\n",
       "      <td>22</td>\n",
       "      <td>23</td>\n",
       "      <td>1700000000000</td>\n",
       "      <td>8809.247351</td>\n",
       "    </tr>\n",
       "    <tr>\n",
       "      <th>39</th>\n",
       "      <td>Germany</td>\n",
       "      <td>18</td>\n",
       "      <td>0</td>\n",
       "      <td>1</td>\n",
       "      <td>19</td>\n",
       "      <td>3750000000000</td>\n",
       "      <td>45670.388140</td>\n",
       "    </tr>\n",
       "    <tr>\n",
       "      <th>71</th>\n",
       "      <td>Russia</td>\n",
       "      <td>2</td>\n",
       "      <td>8</td>\n",
       "      <td>7</td>\n",
       "      <td>17</td>\n",
       "      <td>1660000000000</td>\n",
       "      <td>11629.344760</td>\n",
       "    </tr>\n",
       "  </tbody>\n",
       "</table>\n",
       "</div>"
      ],
      "text/plain": [
       "      Country  Gold  Silver  Bronze  Total             GDP  GDP Per Capita\n",
       "5         USA    50       7      12     69  14700000000000    48340.321230\n",
       "47  Australia     1      12      32     45   1060000000000    49884.230940\n",
       "41  Argentina    18       0      12     30    362000000000     8964.303722\n",
       "18      Spain     1      28       0     29   1640000000000    35687.779460\n",
       "17     Brazil     1       0      22     23   1700000000000     8809.247351\n",
       "39    Germany    18       0       1     19   3750000000000    45670.388140\n",
       "71     Russia     2       8       7     17   1660000000000    11629.344760"
      ]
     },
     "metadata": {},
     "output_type": "display_data"
    },
    {
     "name": "stdout",
     "output_type": "stream",
     "text": [
      "----------------------------------------------------------------------------------------------------\n",
      "Year 2012 (Male)\n"
     ]
    },
    {
     "data": {
      "text/html": [
       "<div>\n",
       "<style scoped>\n",
       "    .dataframe tbody tr th:only-of-type {\n",
       "        vertical-align: middle;\n",
       "    }\n",
       "\n",
       "    .dataframe tbody tr th {\n",
       "        vertical-align: top;\n",
       "    }\n",
       "\n",
       "    .dataframe thead th {\n",
       "        text-align: right;\n",
       "    }\n",
       "</style>\n",
       "<table border=\"1\" class=\"dataframe\">\n",
       "  <thead>\n",
       "    <tr style=\"text-align: right;\">\n",
       "      <th></th>\n",
       "      <th>Country</th>\n",
       "      <th>Gold</th>\n",
       "      <th>Silver</th>\n",
       "      <th>Bronze</th>\n",
       "      <th>Total</th>\n",
       "      <th>GDP</th>\n",
       "      <th>GDP Per Capita</th>\n",
       "    </tr>\n",
       "  </thead>\n",
       "  <tbody>\n",
       "    <tr>\n",
       "      <th>1</th>\n",
       "      <td>USA</td>\n",
       "      <td>38</td>\n",
       "      <td>27</td>\n",
       "      <td>7</td>\n",
       "      <td>72</td>\n",
       "      <td>16200000000000</td>\n",
       "      <td>51592.623030</td>\n",
       "    </tr>\n",
       "    <tr>\n",
       "      <th>50</th>\n",
       "      <td>South Korea</td>\n",
       "      <td>1</td>\n",
       "      <td>2</td>\n",
       "      <td>23</td>\n",
       "      <td>26</td>\n",
       "      <td>1220000000000</td>\n",
       "      <td>24302.788840</td>\n",
       "    </tr>\n",
       "    <tr>\n",
       "      <th>16</th>\n",
       "      <td>Australia</td>\n",
       "      <td>0</td>\n",
       "      <td>4</td>\n",
       "      <td>22</td>\n",
       "      <td>26</td>\n",
       "      <td>1540000000000</td>\n",
       "      <td>67757.074520</td>\n",
       "    </tr>\n",
       "    <tr>\n",
       "      <th>14</th>\n",
       "      <td>Russia</td>\n",
       "      <td>2</td>\n",
       "      <td>3</td>\n",
       "      <td>19</td>\n",
       "      <td>24</td>\n",
       "      <td>2210000000000</td>\n",
       "      <td>15432.780270</td>\n",
       "    </tr>\n",
       "    <tr>\n",
       "      <th>48</th>\n",
       "      <td>China</td>\n",
       "      <td>9</td>\n",
       "      <td>4</td>\n",
       "      <td>10</td>\n",
       "      <td>23</td>\n",
       "      <td>8560000000000</td>\n",
       "      <td>6337.478113</td>\n",
       "    </tr>\n",
       "    <tr>\n",
       "      <th>4</th>\n",
       "      <td>France</td>\n",
       "      <td>9</td>\n",
       "      <td>8</td>\n",
       "      <td>6</td>\n",
       "      <td>23</td>\n",
       "      <td>2680000000000</td>\n",
       "      <td>40816.457070</td>\n",
       "    </tr>\n",
       "    <tr>\n",
       "      <th>34</th>\n",
       "      <td>Germany</td>\n",
       "      <td>17</td>\n",
       "      <td>3</td>\n",
       "      <td>1</td>\n",
       "      <td>21</td>\n",
       "      <td>3540000000000</td>\n",
       "      <td>44015.713710</td>\n",
       "    </tr>\n",
       "  </tbody>\n",
       "</table>\n",
       "</div>"
      ],
      "text/plain": [
       "        Country  Gold  Silver  Bronze  Total             GDP  GDP Per Capita\n",
       "1           USA    38      27       7     72  16200000000000    51592.623030\n",
       "50  South Korea     1       2      23     26   1220000000000    24302.788840\n",
       "16    Australia     0       4      22     26   1540000000000    67757.074520\n",
       "14       Russia     2       3      19     24   2210000000000    15432.780270\n",
       "48        China     9       4      10     23   8560000000000     6337.478113\n",
       "4        France     9       8       6     23   2680000000000    40816.457070\n",
       "34      Germany    17       3       1     21   3540000000000    44015.713710"
      ]
     },
     "metadata": {},
     "output_type": "display_data"
    },
    {
     "name": "stdout",
     "output_type": "stream",
     "text": [
      "----------------------------------------------------------------------------------------------------\n",
      "Year 2016 (Male)\n"
     ]
    },
    {
     "data": {
      "text/html": [
       "<div>\n",
       "<style scoped>\n",
       "    .dataframe tbody tr th:only-of-type {\n",
       "        vertical-align: middle;\n",
       "    }\n",
       "\n",
       "    .dataframe tbody tr th {\n",
       "        vertical-align: top;\n",
       "    }\n",
       "\n",
       "    .dataframe thead th {\n",
       "        text-align: right;\n",
       "    }\n",
       "</style>\n",
       "<table border=\"1\" class=\"dataframe\">\n",
       "  <thead>\n",
       "    <tr style=\"text-align: right;\">\n",
       "      <th></th>\n",
       "      <th>Country</th>\n",
       "      <th>Gold</th>\n",
       "      <th>Silver</th>\n",
       "      <th>Bronze</th>\n",
       "      <th>Total</th>\n",
       "      <th>GDP</th>\n",
       "      <th>GDP Per Capita</th>\n",
       "    </tr>\n",
       "  </thead>\n",
       "  <tbody>\n",
       "    <tr>\n",
       "      <th>5</th>\n",
       "      <td>USA</td>\n",
       "      <td>52</td>\n",
       "      <td>13</td>\n",
       "      <td>12</td>\n",
       "      <td>77</td>\n",
       "      <td>18600000000000</td>\n",
       "      <td>57562.415000</td>\n",
       "    </tr>\n",
       "    <tr>\n",
       "      <th>37</th>\n",
       "      <td>Germany</td>\n",
       "      <td>2</td>\n",
       "      <td>17</td>\n",
       "      <td>17</td>\n",
       "      <td>36</td>\n",
       "      <td>3480000000000</td>\n",
       "      <td>42096.255630</td>\n",
       "    </tr>\n",
       "    <tr>\n",
       "      <th>72</th>\n",
       "      <td>Argentina</td>\n",
       "      <td>18</td>\n",
       "      <td>1</td>\n",
       "      <td>0</td>\n",
       "      <td>19</td>\n",
       "      <td>545000000000</td>\n",
       "      <td>12429.462800</td>\n",
       "    </tr>\n",
       "    <tr>\n",
       "      <th>1</th>\n",
       "      <td>Australia</td>\n",
       "      <td>2</td>\n",
       "      <td>2</td>\n",
       "      <td>14</td>\n",
       "      <td>18</td>\n",
       "      <td>1200000000000</td>\n",
       "      <td>49736.481610</td>\n",
       "    </tr>\n",
       "    <tr>\n",
       "      <th>13</th>\n",
       "      <td>Brazil</td>\n",
       "      <td>18</td>\n",
       "      <td>0</td>\n",
       "      <td>0</td>\n",
       "      <td>18</td>\n",
       "      <td>1800000000000</td>\n",
       "      <td>8668.312860</td>\n",
       "    </tr>\n",
       "    <tr>\n",
       "      <th>124</th>\n",
       "      <td>Nigeria</td>\n",
       "      <td>0</td>\n",
       "      <td>0</td>\n",
       "      <td>18</td>\n",
       "      <td>18</td>\n",
       "      <td>405000000000</td>\n",
       "      <td>2177.540642</td>\n",
       "    </tr>\n",
       "    <tr>\n",
       "      <th>6</th>\n",
       "      <td>Belgium</td>\n",
       "      <td>0</td>\n",
       "      <td>17</td>\n",
       "      <td>0</td>\n",
       "      <td>17</td>\n",
       "      <td>468000000000</td>\n",
       "      <td>41240.169440</td>\n",
       "    </tr>\n",
       "  </tbody>\n",
       "</table>\n",
       "</div>"
      ],
      "text/plain": [
       "       Country  Gold  Silver  Bronze  Total             GDP  GDP Per Capita\n",
       "5          USA    52      13      12     77  18600000000000    57562.415000\n",
       "37     Germany     2      17      17     36   3480000000000    42096.255630\n",
       "72   Argentina    18       1       0     19    545000000000    12429.462800\n",
       "1    Australia     2       2      14     18   1200000000000    49736.481610\n",
       "13      Brazil    18       0       0     18   1800000000000     8668.312860\n",
       "124    Nigeria     0       0      18     18    405000000000     2177.540642\n",
       "6      Belgium     0      17       0     17    468000000000    41240.169440"
      ]
     },
     "metadata": {},
     "output_type": "display_data"
    },
    {
     "name": "stdout",
     "output_type": "stream",
     "text": [
      "----------------------------------------------------------------------------------------------------\n"
     ]
    }
   ],
   "source": [
    "medal_gdp_list = [medal_gdp_2000_m, medal_gdp_2004_m, medal_gdp_2008_m, medal_gdp_2012_m, medal_gdp_2016_m]\n",
    "i = 2000;\n",
    "for item in medal_gdp_list:\n",
    "    print(\"Year\", i, \"(Male)\");\n",
    "    display(item.sort_values(by = ['Total'], ascending=False).head(7))\n",
    "    i+=4\n",
    "    print(\"-\"*100)"
   ]
  },
  {
   "cell_type": "markdown",
   "id": "bf5d6ec3",
   "metadata": {},
   "source": [
    "## Correlation Coefficient between GDP and Medal Count"
   ]
  },
  {
   "cell_type": "code",
   "execution_count": 22,
   "id": "52799fc2",
   "metadata": {},
   "outputs": [
    {
     "name": "stdout",
     "output_type": "stream",
     "text": [
      "Correlation Coefficients (Male Athletes):\n",
      "Year 2000: 0.6606089952391634\n",
      "Year 2004: 0.7899163439741623\n",
      "Year 2008: 0.7745684014264502\n",
      "Year 2012: 0.8565995893585798\n",
      "Year 2016: 0.8239444483434065\n"
     ]
    }
   ],
   "source": [
    "print(\"Correlation Coefficients (Male Athletes):\")\n",
    "print(\"Year 2000:\", medal_gdp_2000_m[\"GDP\"].corr(medal_gdp_2000_m.Total))\n",
    "print(\"Year 2004:\", medal_gdp_2004_m[\"GDP\"].corr(medal_gdp_2004_m.Total))\n",
    "print(\"Year 2008:\", medal_gdp_2008_m[\"GDP\"].corr(medal_gdp_2008_m.Total))\n",
    "print(\"Year 2012:\", medal_gdp_2012_m[\"GDP\"].corr(medal_gdp_2012_m.Total))\n",
    "print(\"Year 2016:\", medal_gdp_2016_m[\"GDP\"].corr(medal_gdp_2016_m.Total))"
   ]
  },
  {
   "cell_type": "markdown",
   "id": "4466eb86",
   "metadata": {},
   "source": [
    "### The Correlation Coefficients tell us that there is a moderately strong relation between GDP and the Total Medal Count. Therefore, we will proceed to plot the regression line for these 2 variables"
   ]
  },
  {
   "cell_type": "markdown",
   "id": "830a2abd",
   "metadata": {},
   "source": [
    "## Plotting GDP against Medals (Male Athletes)"
   ]
  },
  {
   "cell_type": "code",
   "execution_count": 23,
   "id": "394ddbc3",
   "metadata": {},
   "outputs": [
    {
     "name": "stdout",
     "output_type": "stream",
     "text": [
      "Year: 2000\n"
     ]
    },
    {
     "data": {
      "image/png": "[encoded data removed]",
      "text/plain": [
       "<Figure size 432x288 with 1 Axes>"
      ]
     },
     "metadata": {
      "needs_background": "light"
     },
     "output_type": "display_data"
    },
    {
     "name": "stdout",
     "output_type": "stream",
     "text": [
      "Correlation Coefficient =  0.6606089952391634\n",
      "--------------------------------------------------\n",
      "Year: 2004\n"
     ]
    },
    {
     "data": {
      "image/png": "[encoded data removed]",
      "text/plain": [
       "<Figure size 432x288 with 1 Axes>"
      ]
     },
     "metadata": {
      "needs_background": "light"
     },
     "output_type": "display_data"
    },
    {
     "name": "stdout",
     "output_type": "stream",
     "text": [
      "Correlation Coefficient =  0.7899163439741623\n",
      "--------------------------------------------------\n",
      "Year: 2008\n"
     ]
    },
    {
     "data": {
      "image/png": "[encoded data removed]",
      "text/plain": [
       "<Figure size 432x288 with 1 Axes>"
      ]
     },
     "metadata": {
      "needs_background": "light"
     },
     "output_type": "display_data"
    },
    {
     "name": "stdout",
     "output_type": "stream",
     "text": [
      "Correlation Coefficient =  0.7745684014264502\n",
      "--------------------------------------------------\n",
      "Year: 2012\n"
     ]
    },
    {
     "data": {
      "image/png": "[encoded data removed]",
      "text/plain": [
       "<Figure size 432x288 with 1 Axes>"
      ]
     },
     "metadata": {
      "needs_background": "light"
     },
     "output_type": "display_data"
    },
    {
     "name": "stdout",
     "output_type": "stream",
     "text": [
      "Correlation Coefficient =  0.8565995893585798\n",
      "--------------------------------------------------\n",
      "Year: 2016\n"
     ]
    },
    {
     "data": {
      "image/png": "[encoded data removed]",
      "text/plain": [
       "<Figure size 432x288 with 1 Axes>"
      ]
     },
     "metadata": {
      "needs_background": "light"
     },
     "output_type": "display_data"
    },
    {
     "name": "stdout",
     "output_type": "stream",
     "text": [
      "Correlation Coefficient =  0.8239444483434065\n",
      "--------------------------------------------------\n"
     ]
    }
   ],
   "source": [
    "print(\"Year: 2000\")\n",
    "plot_medal_gdp(medal_gdp_2000_m)\n",
    "print(\"Year: 2004\")\n",
    "plot_medal_gdp(medal_gdp_2004_m)\n",
    "print(\"Year: 2008\")\n",
    "plot_medal_gdp(medal_gdp_2008_m)\n",
    "print(\"Year: 2012\")\n",
    "plot_medal_gdp(medal_gdp_2012_m)\n",
    "print(\"Year: 2016\")\n",
    "plot_medal_gdp(medal_gdp_2016_m)"
   ]
  },
  {
   "cell_type": "markdown",
   "id": "9112582d",
   "metadata": {},
   "source": [
    "## Plotting GDP Per Capita  against Medals (Male Athletes)"
   ]
  },
  {
   "cell_type": "code",
   "execution_count": 24,
   "id": "e5fd1f62",
   "metadata": {},
   "outputs": [
    {
     "name": "stdout",
     "output_type": "stream",
     "text": [
      "Year: 2000\n"
     ]
    },
    {
     "data": {
      "image/png": "[encoded data removed]",
      "text/plain": [
       "<Figure size 432x288 with 1 Axes>"
      ]
     },
     "metadata": {
      "needs_background": "light"
     },
     "output_type": "display_data"
    },
    {
     "name": "stdout",
     "output_type": "stream",
     "text": [
      "Correlation Coefficient =  0.009552765740473378\n",
      "--------------------------------------------------\n",
      "Year: 2004\n"
     ]
    },
    {
     "data": {
      "image/png": "[encoded data removed]",
      "text/plain": [
       "<Figure size 432x288 with 1 Axes>"
      ]
     },
     "metadata": {
      "needs_background": "light"
     },
     "output_type": "display_data"
    },
    {
     "name": "stdout",
     "output_type": "stream",
     "text": [
      "Correlation Coefficient =  -0.016330219994951777\n",
      "--------------------------------------------------\n",
      "Year: 2008\n"
     ]
    },
    {
     "data": {
      "image/png": "[encoded data removed]",
      "text/plain": [
       "<Figure size 432x288 with 1 Axes>"
      ]
     },
     "metadata": {
      "needs_background": "light"
     },
     "output_type": "display_data"
    },
    {
     "name": "stdout",
     "output_type": "stream",
     "text": [
      "Correlation Coefficient =  0.13234030746123482\n",
      "--------------------------------------------------\n",
      "Year: 2012\n"
     ]
    },
    {
     "data": {
      "image/png": "[encoded data removed]",
      "text/plain": [
       "<Figure size 432x288 with 1 Axes>"
      ]
     },
     "metadata": {
      "needs_background": "light"
     },
     "output_type": "display_data"
    },
    {
     "name": "stdout",
     "output_type": "stream",
     "text": [
      "Correlation Coefficient =  0.058350955807495705\n",
      "--------------------------------------------------\n",
      "Year: 2016\n"
     ]
    },
    {
     "data": {
      "image/png": "[encoded data removed]",
      "text/plain": [
       "<Figure size 432x288 with 1 Axes>"
      ]
     },
     "metadata": {
      "needs_background": "light"
     },
     "output_type": "display_data"
    },
    {
     "name": "stdout",
     "output_type": "stream",
     "text": [
      "Correlation Coefficient =  0.16517892906175152\n",
      "--------------------------------------------------\n"
     ]
    }
   ],
   "source": [
    "print(\"Year: 2000\")\n",
    "plot_medal_gdppc(medal_gdp_2000_m)\n",
    "print(\"Year: 2004\")\n",
    "plot_medal_gdppc(medal_gdp_2004_m)\n",
    "print(\"Year: 2008\")\n",
    "plot_medal_gdppc(medal_gdp_2008_m)\n",
    "print(\"Year: 2012\")\n",
    "plot_medal_gdppc(medal_gdp_2012_m)\n",
    "print(\"Year: 2016\")\n",
    "plot_medal_gdppc(medal_gdp_2016_m)"
   ]
  },
  {
   "cell_type": "code",
   "execution_count": 25,
   "id": "eab09a54",
   "metadata": {},
   "outputs": [],
   "source": [
    "female_data_2000 = clean_female_df[clean_female_df['Year']==2000]\n",
    "medal_gdp_2000_f = top_countries(female_data_2000)\n",
    "female_data_2004 = clean_female_df[clean_female_df['Year']==2004]\n",
    "medal_gdp_2004_f = top_countries(female_data_2004)\n",
    "female_data_2008 = clean_female_df[clean_female_df['Year']==2008]\n",
    "medal_gdp_2008_f = top_countries(female_data_2008)\n",
    "female_data_2012 = clean_female_df[clean_female_df['Year']==2012]\n",
    "medal_gdp_2012_f = top_countries(female_data_2012)\n",
    "female_data_2016 = clean_female_df[clean_female_df['Year']==2016]\n",
    "medal_gdp_2016_f = top_countries(female_data_2016)"
   ]
  },
  {
   "cell_type": "markdown",
   "id": "49935b5d",
   "metadata": {},
   "source": [
    "## Top Countries by Year (Female Athletes)"
   ]
  },
  {
   "cell_type": "code",
   "execution_count": 26,
   "id": "35c09dde",
   "metadata": {},
   "outputs": [
    {
     "name": "stdout",
     "output_type": "stream",
     "text": [
      "Year 2000 (Female)\n"
     ]
    },
    {
     "data": {
      "text/html": [
       "<div>\n",
       "<style scoped>\n",
       "    .dataframe tbody tr th:only-of-type {\n",
       "        vertical-align: middle;\n",
       "    }\n",
       "\n",
       "    .dataframe tbody tr th {\n",
       "        vertical-align: top;\n",
       "    }\n",
       "\n",
       "    .dataframe thead th {\n",
       "        text-align: right;\n",
       "    }\n",
       "</style>\n",
       "<table border=\"1\" class=\"dataframe\">\n",
       "  <thead>\n",
       "    <tr style=\"text-align: right;\">\n",
       "      <th></th>\n",
       "      <th>Country</th>\n",
       "      <th>Gold</th>\n",
       "      <th>Silver</th>\n",
       "      <th>Bronze</th>\n",
       "      <th>Total</th>\n",
       "      <th>GDP</th>\n",
       "      <th>GDP Per Capita</th>\n",
       "    </tr>\n",
       "  </thead>\n",
       "  <tbody>\n",
       "    <tr>\n",
       "      <th>2</th>\n",
       "      <td>USA</td>\n",
       "      <td>45</td>\n",
       "      <td>15</td>\n",
       "      <td>14</td>\n",
       "      <td>74</td>\n",
       "      <td>10300000000000</td>\n",
       "      <td>36503.799230</td>\n",
       "    </tr>\n",
       "    <tr>\n",
       "      <th>30</th>\n",
       "      <td>Australia</td>\n",
       "      <td>18</td>\n",
       "      <td>28</td>\n",
       "      <td>1</td>\n",
       "      <td>47</td>\n",
       "      <td>415000000000</td>\n",
       "      <td>21667.623870</td>\n",
       "    </tr>\n",
       "    <tr>\n",
       "      <th>32</th>\n",
       "      <td>Germany</td>\n",
       "      <td>1</td>\n",
       "      <td>0</td>\n",
       "      <td>28</td>\n",
       "      <td>29</td>\n",
       "      <td>1950000000000</td>\n",
       "      <td>23719.307030</td>\n",
       "    </tr>\n",
       "    <tr>\n",
       "      <th>10</th>\n",
       "      <td>Netherlands</td>\n",
       "      <td>3</td>\n",
       "      <td>7</td>\n",
       "      <td>16</td>\n",
       "      <td>26</td>\n",
       "      <td>413000000000</td>\n",
       "      <td>25933.230530</td>\n",
       "    </tr>\n",
       "    <tr>\n",
       "      <th>117</th>\n",
       "      <td>Norway</td>\n",
       "      <td>18</td>\n",
       "      <td>1</td>\n",
       "      <td>0</td>\n",
       "      <td>19</td>\n",
       "      <td>171000000000</td>\n",
       "      <td>38076.432090</td>\n",
       "    </tr>\n",
       "    <tr>\n",
       "      <th>4</th>\n",
       "      <td>Argentina</td>\n",
       "      <td>0</td>\n",
       "      <td>16</td>\n",
       "      <td>0</td>\n",
       "      <td>16</td>\n",
       "      <td>284000000000</td>\n",
       "      <td>7663.775696</td>\n",
       "    </tr>\n",
       "    <tr>\n",
       "      <th>8</th>\n",
       "      <td>Jamaica</td>\n",
       "      <td>0</td>\n",
       "      <td>14</td>\n",
       "      <td>2</td>\n",
       "      <td>16</td>\n",
       "      <td>8929375580</td>\n",
       "      <td>3360.870402</td>\n",
       "    </tr>\n",
       "  </tbody>\n",
       "</table>\n",
       "</div>"
      ],
      "text/plain": [
       "         Country  Gold  Silver  Bronze  Total             GDP  GDP Per Capita\n",
       "2            USA    45      15      14     74  10300000000000    36503.799230\n",
       "30     Australia    18      28       1     47    415000000000    21667.623870\n",
       "32       Germany     1       0      28     29   1950000000000    23719.307030\n",
       "10   Netherlands     3       7      16     26    413000000000    25933.230530\n",
       "117       Norway    18       1       0     19    171000000000    38076.432090\n",
       "4      Argentina     0      16       0     16    284000000000     7663.775696\n",
       "8        Jamaica     0      14       2     16      8929375580     3360.870402"
      ]
     },
     "metadata": {},
     "output_type": "display_data"
    },
    {
     "name": "stdout",
     "output_type": "stream",
     "text": [
      "----------------------------------------------------------------------------------------------------\n",
      "Year 2004 (Female)\n"
     ]
    },
    {
     "data": {
      "text/html": [
       "<div>\n",
       "<style scoped>\n",
       "    .dataframe tbody tr th:only-of-type {\n",
       "        vertical-align: middle;\n",
       "    }\n",
       "\n",
       "    .dataframe tbody tr th {\n",
       "        vertical-align: top;\n",
       "    }\n",
       "\n",
       "    .dataframe thead th {\n",
       "        text-align: right;\n",
       "    }\n",
       "</style>\n",
       "<table border=\"1\" class=\"dataframe\">\n",
       "  <thead>\n",
       "    <tr style=\"text-align: right;\">\n",
       "      <th></th>\n",
       "      <th>Country</th>\n",
       "      <th>Gold</th>\n",
       "      <th>Silver</th>\n",
       "      <th>Bronze</th>\n",
       "      <th>Total</th>\n",
       "      <th>GDP</th>\n",
       "      <th>GDP Per Capita</th>\n",
       "    </tr>\n",
       "  </thead>\n",
       "  <tbody>\n",
       "    <tr>\n",
       "      <th>23</th>\n",
       "      <td>USA</td>\n",
       "      <td>44</td>\n",
       "      <td>19</td>\n",
       "      <td>5</td>\n",
       "      <td>68</td>\n",
       "      <td>12300000000000</td>\n",
       "      <td>42007.436630</td>\n",
       "    </tr>\n",
       "    <tr>\n",
       "      <th>25</th>\n",
       "      <td>Germany</td>\n",
       "      <td>16</td>\n",
       "      <td>2</td>\n",
       "      <td>29</td>\n",
       "      <td>47</td>\n",
       "      <td>2820000000000</td>\n",
       "      <td>34175.082580</td>\n",
       "    </tr>\n",
       "    <tr>\n",
       "      <th>28</th>\n",
       "      <td>Russia</td>\n",
       "      <td>5</td>\n",
       "      <td>16</td>\n",
       "      <td>17</td>\n",
       "      <td>38</td>\n",
       "      <td>591000000000</td>\n",
       "      <td>4102.256440</td>\n",
       "    </tr>\n",
       "    <tr>\n",
       "      <th>0</th>\n",
       "      <td>Australia</td>\n",
       "      <td>14</td>\n",
       "      <td>15</td>\n",
       "      <td>4</td>\n",
       "      <td>33</td>\n",
       "      <td>613000000000</td>\n",
       "      <td>30455.995310</td>\n",
       "    </tr>\n",
       "    <tr>\n",
       "      <th>15</th>\n",
       "      <td>Netherlands</td>\n",
       "      <td>1</td>\n",
       "      <td>18</td>\n",
       "      <td>6</td>\n",
       "      <td>25</td>\n",
       "      <td>651000000000</td>\n",
       "      <td>39983.345800</td>\n",
       "    </tr>\n",
       "    <tr>\n",
       "      <th>35</th>\n",
       "      <td>China</td>\n",
       "      <td>11</td>\n",
       "      <td>11</td>\n",
       "      <td>1</td>\n",
       "      <td>23</td>\n",
       "      <td>1960000000000</td>\n",
       "      <td>1512.258164</td>\n",
       "    </tr>\n",
       "    <tr>\n",
       "      <th>21</th>\n",
       "      <td>Argentina</td>\n",
       "      <td>0</td>\n",
       "      <td>0</td>\n",
       "      <td>19</td>\n",
       "      <td>19</td>\n",
       "      <td>165000000000</td>\n",
       "      <td>4260.406805</td>\n",
       "    </tr>\n",
       "  </tbody>\n",
       "</table>\n",
       "</div>"
      ],
      "text/plain": [
       "        Country  Gold  Silver  Bronze  Total             GDP  GDP Per Capita\n",
       "23          USA    44      19       5     68  12300000000000    42007.436630\n",
       "25      Germany    16       2      29     47   2820000000000    34175.082580\n",
       "28       Russia     5      16      17     38    591000000000     4102.256440\n",
       "0     Australia    14      15       4     33    613000000000    30455.995310\n",
       "15  Netherlands     1      18       6     25    651000000000    39983.345800\n",
       "35        China    11      11       1     23   1960000000000     1512.258164\n",
       "21    Argentina     0       0      19     19    165000000000     4260.406805"
      ]
     },
     "metadata": {},
     "output_type": "display_data"
    },
    {
     "name": "stdout",
     "output_type": "stream",
     "text": [
      "----------------------------------------------------------------------------------------------------\n",
      "Year 2008 (Female)\n"
     ]
    },
    {
     "data": {
      "text/html": [
       "<div>\n",
       "<style scoped>\n",
       "    .dataframe tbody tr th:only-of-type {\n",
       "        vertical-align: middle;\n",
       "    }\n",
       "\n",
       "    .dataframe tbody tr th {\n",
       "        vertical-align: top;\n",
       "    }\n",
       "\n",
       "    .dataframe thead th {\n",
       "        text-align: right;\n",
       "    }\n",
       "</style>\n",
       "<table border=\"1\" class=\"dataframe\">\n",
       "  <thead>\n",
       "    <tr style=\"text-align: right;\">\n",
       "      <th></th>\n",
       "      <th>Country</th>\n",
       "      <th>Gold</th>\n",
       "      <th>Silver</th>\n",
       "      <th>Bronze</th>\n",
       "      <th>Total</th>\n",
       "      <th>GDP</th>\n",
       "      <th>GDP Per Capita</th>\n",
       "    </tr>\n",
       "  </thead>\n",
       "  <tbody>\n",
       "    <tr>\n",
       "      <th>23</th>\n",
       "      <td>USA</td>\n",
       "      <td>40</td>\n",
       "      <td>24</td>\n",
       "      <td>12</td>\n",
       "      <td>76</td>\n",
       "      <td>14700000000000</td>\n",
       "      <td>48340.321230</td>\n",
       "    </tr>\n",
       "    <tr>\n",
       "      <th>12</th>\n",
       "      <td>China</td>\n",
       "      <td>9</td>\n",
       "      <td>26</td>\n",
       "      <td>13</td>\n",
       "      <td>48</td>\n",
       "      <td>4600000000000</td>\n",
       "      <td>3472.602300</td>\n",
       "    </tr>\n",
       "    <tr>\n",
       "      <th>17</th>\n",
       "      <td>Australia</td>\n",
       "      <td>19</td>\n",
       "      <td>15</td>\n",
       "      <td>8</td>\n",
       "      <td>42</td>\n",
       "      <td>1060000000000</td>\n",
       "      <td>49884.230940</td>\n",
       "    </tr>\n",
       "    <tr>\n",
       "      <th>3</th>\n",
       "      <td>Russia</td>\n",
       "      <td>9</td>\n",
       "      <td>12</td>\n",
       "      <td>18</td>\n",
       "      <td>39</td>\n",
       "      <td>1660000000000</td>\n",
       "      <td>11629.344760</td>\n",
       "    </tr>\n",
       "    <tr>\n",
       "      <th>42</th>\n",
       "      <td>Netherlands</td>\n",
       "      <td>22</td>\n",
       "      <td>0</td>\n",
       "      <td>0</td>\n",
       "      <td>22</td>\n",
       "      <td>936000000000</td>\n",
       "      <td>56914.943720</td>\n",
       "    </tr>\n",
       "    <tr>\n",
       "      <th>39</th>\n",
       "      <td>Brazil</td>\n",
       "      <td>1</td>\n",
       "      <td>18</td>\n",
       "      <td>0</td>\n",
       "      <td>19</td>\n",
       "      <td>1700000000000</td>\n",
       "      <td>8809.247351</td>\n",
       "    </tr>\n",
       "    <tr>\n",
       "      <th>32</th>\n",
       "      <td>Germany</td>\n",
       "      <td>2</td>\n",
       "      <td>0</td>\n",
       "      <td>17</td>\n",
       "      <td>19</td>\n",
       "      <td>3750000000000</td>\n",
       "      <td>45670.388140</td>\n",
       "    </tr>\n",
       "  </tbody>\n",
       "</table>\n",
       "</div>"
      ],
      "text/plain": [
       "        Country  Gold  Silver  Bronze  Total             GDP  GDP Per Capita\n",
       "23          USA    40      24      12     76  14700000000000    48340.321230\n",
       "12        China     9      26      13     48   4600000000000     3472.602300\n",
       "17    Australia    19      15       8     42   1060000000000    49884.230940\n",
       "3        Russia     9      12      18     39   1660000000000    11629.344760\n",
       "42  Netherlands    22       0       0     22    936000000000    56914.943720\n",
       "39       Brazil     1      18       0     19   1700000000000     8809.247351\n",
       "32      Germany     2       0      17     19   3750000000000    45670.388140"
      ]
     },
     "metadata": {},
     "output_type": "display_data"
    },
    {
     "name": "stdout",
     "output_type": "stream",
     "text": [
      "----------------------------------------------------------------------------------------------------\n",
      "Year 2012 (Female)\n"
     ]
    },
    {
     "data": {
      "text/html": [
       "<div>\n",
       "<style scoped>\n",
       "    .dataframe tbody tr th:only-of-type {\n",
       "        vertical-align: middle;\n",
       "    }\n",
       "\n",
       "    .dataframe tbody tr th {\n",
       "        vertical-align: top;\n",
       "    }\n",
       "\n",
       "    .dataframe thead th {\n",
       "        text-align: right;\n",
       "    }\n",
       "</style>\n",
       "<table border=\"1\" class=\"dataframe\">\n",
       "  <thead>\n",
       "    <tr style=\"text-align: right;\">\n",
       "      <th></th>\n",
       "      <th>Country</th>\n",
       "      <th>Gold</th>\n",
       "      <th>Silver</th>\n",
       "      <th>Bronze</th>\n",
       "      <th>Total</th>\n",
       "      <th>GDP</th>\n",
       "      <th>GDP Per Capita</th>\n",
       "    </tr>\n",
       "  </thead>\n",
       "  <tbody>\n",
       "    <tr>\n",
       "      <th>1</th>\n",
       "      <td>USA</td>\n",
       "      <td>68</td>\n",
       "      <td>8</td>\n",
       "      <td>13</td>\n",
       "      <td>89</td>\n",
       "      <td>16200000000000</td>\n",
       "      <td>51592.623030</td>\n",
       "    </tr>\n",
       "    <tr>\n",
       "      <th>13</th>\n",
       "      <td>Australia</td>\n",
       "      <td>8</td>\n",
       "      <td>15</td>\n",
       "      <td>14</td>\n",
       "      <td>37</td>\n",
       "      <td>1540000000000</td>\n",
       "      <td>67757.074520</td>\n",
       "    </tr>\n",
       "    <tr>\n",
       "      <th>74</th>\n",
       "      <td>Japan</td>\n",
       "      <td>0</td>\n",
       "      <td>22</td>\n",
       "      <td>10</td>\n",
       "      <td>32</td>\n",
       "      <td>6200000000000</td>\n",
       "      <td>48578.301170</td>\n",
       "    </tr>\n",
       "    <tr>\n",
       "      <th>9</th>\n",
       "      <td>Russia</td>\n",
       "      <td>6</td>\n",
       "      <td>15</td>\n",
       "      <td>10</td>\n",
       "      <td>31</td>\n",
       "      <td>2210000000000</td>\n",
       "      <td>15432.780270</td>\n",
       "    </tr>\n",
       "    <tr>\n",
       "      <th>52</th>\n",
       "      <td>Netherlands</td>\n",
       "      <td>18</td>\n",
       "      <td>5</td>\n",
       "      <td>1</td>\n",
       "      <td>24</td>\n",
       "      <td>829000000000</td>\n",
       "      <td>49477.880050</td>\n",
       "    </tr>\n",
       "    <tr>\n",
       "      <th>16</th>\n",
       "      <td>China</td>\n",
       "      <td>10</td>\n",
       "      <td>6</td>\n",
       "      <td>5</td>\n",
       "      <td>21</td>\n",
       "      <td>8560000000000</td>\n",
       "      <td>6337.478113</td>\n",
       "    </tr>\n",
       "    <tr>\n",
       "      <th>2</th>\n",
       "      <td>UK</td>\n",
       "      <td>1</td>\n",
       "      <td>2</td>\n",
       "      <td>18</td>\n",
       "      <td>21</td>\n",
       "      <td>2660000000000</td>\n",
       "      <td>41758.045100</td>\n",
       "    </tr>\n",
       "  </tbody>\n",
       "</table>\n",
       "</div>"
      ],
      "text/plain": [
       "        Country  Gold  Silver  Bronze  Total             GDP  GDP Per Capita\n",
       "1           USA    68       8      13     89  16200000000000    51592.623030\n",
       "13    Australia     8      15      14     37   1540000000000    67757.074520\n",
       "74        Japan     0      22      10     32   6200000000000    48578.301170\n",
       "9        Russia     6      15      10     31   2210000000000    15432.780270\n",
       "52  Netherlands    18       5       1     24    829000000000    49477.880050\n",
       "16        China    10       6       5     21   8560000000000     6337.478113\n",
       "2            UK     1       2      18     21   2660000000000    41758.045100"
      ]
     },
     "metadata": {},
     "output_type": "display_data"
    },
    {
     "name": "stdout",
     "output_type": "stream",
     "text": [
      "----------------------------------------------------------------------------------------------------\n",
      "Year 2016 (Female)\n"
     ]
    },
    {
     "data": {
      "text/html": [
       "<div>\n",
       "<style scoped>\n",
       "    .dataframe tbody tr th:only-of-type {\n",
       "        vertical-align: middle;\n",
       "    }\n",
       "\n",
       "    .dataframe tbody tr th {\n",
       "        vertical-align: top;\n",
       "    }\n",
       "\n",
       "    .dataframe thead th {\n",
       "        text-align: right;\n",
       "    }\n",
       "</style>\n",
       "<table border=\"1\" class=\"dataframe\">\n",
       "  <thead>\n",
       "    <tr style=\"text-align: right;\">\n",
       "      <th></th>\n",
       "      <th>Country</th>\n",
       "      <th>Gold</th>\n",
       "      <th>Silver</th>\n",
       "      <th>Bronze</th>\n",
       "      <th>Total</th>\n",
       "      <th>GDP</th>\n",
       "      <th>GDP Per Capita</th>\n",
       "    </tr>\n",
       "  </thead>\n",
       "  <tbody>\n",
       "    <tr>\n",
       "      <th>0</th>\n",
       "      <td>USA</td>\n",
       "      <td>49</td>\n",
       "      <td>16</td>\n",
       "      <td>10</td>\n",
       "      <td>75</td>\n",
       "      <td>18600000000000</td>\n",
       "      <td>57562.41500</td>\n",
       "    </tr>\n",
       "    <tr>\n",
       "      <th>28</th>\n",
       "      <td>Germany</td>\n",
       "      <td>18</td>\n",
       "      <td>2</td>\n",
       "      <td>17</td>\n",
       "      <td>37</td>\n",
       "      <td>3480000000000</td>\n",
       "      <td>42096.25563</td>\n",
       "    </tr>\n",
       "    <tr>\n",
       "      <th>35</th>\n",
       "      <td>Canada</td>\n",
       "      <td>1</td>\n",
       "      <td>1</td>\n",
       "      <td>32</td>\n",
       "      <td>34</td>\n",
       "      <td>1530000000000</td>\n",
       "      <td>42164.52847</td>\n",
       "    </tr>\n",
       "    <tr>\n",
       "      <th>42</th>\n",
       "      <td>UK</td>\n",
       "      <td>16</td>\n",
       "      <td>4</td>\n",
       "      <td>10</td>\n",
       "      <td>30</td>\n",
       "      <td>2650000000000</td>\n",
       "      <td>40373.42278</td>\n",
       "    </tr>\n",
       "    <tr>\n",
       "      <th>9</th>\n",
       "      <td>Sweden</td>\n",
       "      <td>1</td>\n",
       "      <td>19</td>\n",
       "      <td>1</td>\n",
       "      <td>21</td>\n",
       "      <td>514000000000</td>\n",
       "      <td>51902.82418</td>\n",
       "    </tr>\n",
       "    <tr>\n",
       "      <th>18</th>\n",
       "      <td>Australia</td>\n",
       "      <td>5</td>\n",
       "      <td>13</td>\n",
       "      <td>1</td>\n",
       "      <td>19</td>\n",
       "      <td>1200000000000</td>\n",
       "      <td>49736.48161</td>\n",
       "    </tr>\n",
       "    <tr>\n",
       "      <th>52</th>\n",
       "      <td>Netherlands</td>\n",
       "      <td>1</td>\n",
       "      <td>17</td>\n",
       "      <td>0</td>\n",
       "      <td>18</td>\n",
       "      <td>777000000000</td>\n",
       "      <td>45656.44448</td>\n",
       "    </tr>\n",
       "  </tbody>\n",
       "</table>\n",
       "</div>"
      ],
      "text/plain": [
       "        Country  Gold  Silver  Bronze  Total             GDP  GDP Per Capita\n",
       "0           USA    49      16      10     75  18600000000000     57562.41500\n",
       "28      Germany    18       2      17     37   3480000000000     42096.25563\n",
       "35       Canada     1       1      32     34   1530000000000     42164.52847\n",
       "42           UK    16       4      10     30   2650000000000     40373.42278\n",
       "9        Sweden     1      19       1     21    514000000000     51902.82418\n",
       "18    Australia     5      13       1     19   1200000000000     49736.48161\n",
       "52  Netherlands     1      17       0     18    777000000000     45656.44448"
      ]
     },
     "metadata": {},
     "output_type": "display_data"
    },
    {
     "name": "stdout",
     "output_type": "stream",
     "text": [
      "----------------------------------------------------------------------------------------------------\n"
     ]
    }
   ],
   "source": [
    "medal_gdp_list_f = [medal_gdp_2000_f, medal_gdp_2004_f, medal_gdp_2008_f, medal_gdp_2012_f, medal_gdp_2016_f]\n",
    "i = 2000;\n",
    "for item in medal_gdp_list_f:\n",
    "    print(\"Year\", i, \"(Female)\");\n",
    "    display(item.sort_values(by = ['Total'], ascending=False).head(7))\n",
    "    i+=4\n",
    "    print(\"-\"*100)"
   ]
  },
  {
   "cell_type": "code",
   "execution_count": 27,
   "id": "77de7296",
   "metadata": {},
   "outputs": [
    {
     "name": "stdout",
     "output_type": "stream",
     "text": [
      "Correlation Coefficients (Female Athletes):\n",
      "Year 2000: 0.7336667238030744\n",
      "Year 2004: 0.7290282641433455\n",
      "Year 2008: 0.7831399603152136\n",
      "Year 2012: 0.8583073366818714\n",
      "Year 2016: 0.7440368557265699\n"
     ]
    }
   ],
   "source": [
    "print(\"Correlation Coefficients (Female Athletes):\")\n",
    "print(\"Year 2000:\", medal_gdp_2000_f[\"GDP\"].corr(medal_gdp_2000_f.Total))\n",
    "print(\"Year 2004:\", medal_gdp_2004_f[\"GDP\"].corr(medal_gdp_2004_f.Total))\n",
    "print(\"Year 2008:\", medal_gdp_2008_f[\"GDP\"].corr(medal_gdp_2008_f.Total))\n",
    "print(\"Year 2012:\", medal_gdp_2012_f[\"GDP\"].corr(medal_gdp_2012_f.Total))\n",
    "print(\"Year 2016:\", medal_gdp_2016_f[\"GDP\"].corr(medal_gdp_2016_f.Total))"
   ]
  },
  {
   "cell_type": "markdown",
   "id": "ad83cc4a",
   "metadata": {},
   "source": [
    "## Plotting GDP against Medals (Female Athletes)"
   ]
  },
  {
   "cell_type": "code",
   "execution_count": 28,
   "id": "82d56160",
   "metadata": {},
   "outputs": [
    {
     "name": "stdout",
     "output_type": "stream",
     "text": [
      "Year: 2000\n"
     ]
    },
    {
     "data": {
      "image/png": "[encoded data removed]",
      "text/plain": [
       "<Figure size 432x288 with 1 Axes>"
      ]
     },
     "metadata": {
      "needs_background": "light"
     },
     "output_type": "display_data"
    },
    {
     "name": "stdout",
     "output_type": "stream",
     "text": [
      "Correlation Coefficient =  0.7336667238030744\n",
      "--------------------------------------------------\n",
      "Year: 2004\n"
     ]
    },
    {
     "data": {
      "image/png": "[encoded data removed]",
      "text/plain": [
       "<Figure size 432x288 with 1 Axes>"
      ]
     },
     "metadata": {
      "needs_background": "light"
     },
     "output_type": "display_data"
    },
    {
     "name": "stdout",
     "output_type": "stream",
     "text": [
      "Correlation Coefficient =  0.7290282641433455\n",
      "--------------------------------------------------\n",
      "Year: 2008\n"
     ]
    },
    {
     "data": {
      "image/png": "[encoded data removed]",
      "text/plain": [
       "<Figure size 432x288 with 1 Axes>"
      ]
     },
     "metadata": {
      "needs_background": "light"
     },
     "output_type": "display_data"
    },
    {
     "name": "stdout",
     "output_type": "stream",
     "text": [
      "Correlation Coefficient =  0.7831399603152136\n",
      "--------------------------------------------------\n",
      "Year: 2012\n"
     ]
    },
    {
     "data": {
      "image/png": "[encoded data removed]",
      "text/plain": [
       "<Figure size 432x288 with 1 Axes>"
      ]
     },
     "metadata": {
      "needs_background": "light"
     },
     "output_type": "display_data"
    },
    {
     "name": "stdout",
     "output_type": "stream",
     "text": [
      "Correlation Coefficient =  0.8583073366818714\n",
      "--------------------------------------------------\n",
      "Year: 2016\n"
     ]
    },
    {
     "data": {
      "image/png": "[encoded data removed]",
      "text/plain": [
       "<Figure size 432x288 with 1 Axes>"
      ]
     },
     "metadata": {
      "needs_background": "light"
     },
     "output_type": "display_data"
    },
    {
     "name": "stdout",
     "output_type": "stream",
     "text": [
      "Correlation Coefficient =  0.7440368557265699\n",
      "--------------------------------------------------\n"
     ]
    }
   ],
   "source": [
    "print(\"Year: 2000\")\n",
    "plot_medal_gdp(medal_gdp_2000_f)\n",
    "print(\"Year: 2004\")\n",
    "plot_medal_gdp(medal_gdp_2004_f)\n",
    "print(\"Year: 2008\")\n",
    "plot_medal_gdp(medal_gdp_2008_f)\n",
    "print(\"Year: 2012\")\n",
    "plot_medal_gdp(medal_gdp_2012_f)\n",
    "print(\"Year: 2016\")\n",
    "plot_medal_gdp(medal_gdp_2016_f)"
   ]
  },
  {
   "cell_type": "markdown",
   "id": "f1e6602b",
   "metadata": {},
   "source": [
    "## Plotting GDP Per Capita against Medals (Female Athletes)"
   ]
  },
  {
   "cell_type": "code",
   "execution_count": 29,
   "id": "c1c3d4f2",
   "metadata": {},
   "outputs": [
    {
     "name": "stdout",
     "output_type": "stream",
     "text": [
      "Year: 2000\n"
     ]
    },
    {
     "data": {
      "image/png": "[encoded data removed]",
      "text/plain": [
       "<Figure size 432x288 with 1 Axes>"
      ]
     },
     "metadata": {
      "needs_background": "light"
     },
     "output_type": "display_data"
    },
    {
     "name": "stdout",
     "output_type": "stream",
     "text": [
      "Correlation Coefficient =  0.02776213445742257\n",
      "--------------------------------------------------\n",
      "Year: 2004\n"
     ]
    },
    {
     "data": {
      "image/png": "[encoded data removed]",
      "text/plain": [
       "<Figure size 432x288 with 1 Axes>"
      ]
     },
     "metadata": {
      "needs_background": "light"
     },
     "output_type": "display_data"
    },
    {
     "name": "stdout",
     "output_type": "stream",
     "text": [
      "Correlation Coefficient =  -0.017269369434358004\n",
      "--------------------------------------------------\n",
      "Year: 2008\n"
     ]
    },
    {
     "data": {
      "image/png": "[encoded data removed]",
      "text/plain": [
       "<Figure size 432x288 with 1 Axes>"
      ]
     },
     "metadata": {
      "needs_background": "light"
     },
     "output_type": "display_data"
    },
    {
     "name": "stdout",
     "output_type": "stream",
     "text": [
      "Correlation Coefficient =  0.15529319870226324\n",
      "--------------------------------------------------\n",
      "Year: 2012\n"
     ]
    },
    {
     "data": {
      "image/png": "[encoded data removed]",
      "text/plain": [
       "<Figure size 432x288 with 1 Axes>"
      ]
     },
     "metadata": {
      "needs_background": "light"
     },
     "output_type": "display_data"
    },
    {
     "name": "stdout",
     "output_type": "stream",
     "text": [
      "Correlation Coefficient =  0.20584000299854632\n",
      "--------------------------------------------------\n",
      "Year: 2016\n"
     ]
    },
    {
     "data": {
      "image/png": "[encoded data removed]",
      "text/plain": [
       "<Figure size 432x288 with 1 Axes>"
      ]
     },
     "metadata": {
      "needs_background": "light"
     },
     "output_type": "display_data"
    },
    {
     "name": "stdout",
     "output_type": "stream",
     "text": [
      "Correlation Coefficient =  0.25690842194987534\n",
      "--------------------------------------------------\n"
     ]
    }
   ],
   "source": [
    "print(\"Year: 2000\")\n",
    "plot_medal_gdppc(medal_gdp_2000_f)\n",
    "print(\"Year: 2004\")\n",
    "plot_medal_gdppc(medal_gdp_2004_f)\n",
    "print(\"Year: 2008\")\n",
    "plot_medal_gdppc(medal_gdp_2008_f)\n",
    "print(\"Year: 2012\")\n",
    "plot_medal_gdppc(medal_gdp_2012_f)\n",
    "print(\"Year: 2016\")\n",
    "plot_medal_gdppc(medal_gdp_2016_f)"
   ]
  },
  {
   "cell_type": "markdown",
   "id": "32561be7",
   "metadata": {},
   "source": [
    "## Conclusions\n",
    "- Based on the correlation coefficients, we can conclude that GDP and Medal Count are strongly related \n",
    "- However, there is a fall in the correlation coefficients between GDP Per Capita and Medal Count. This could be due to how population affects GDP Per Capita. For instance, Singapore has a high GDP Per Capita due to a low population, but it has a very low medal count. "
   ]
  }
 ],
 "metadata": {
  "kernelspec": {
   "display_name": "Python 3 (ipykernel)",
   "language": "python",
   "name": "python3"
  },
  "language_info": {
   "codemirror_mode": {
    "name": "ipython",
    "version": 3
   },
   "file_extension": ".py",
   "mimetype": "text/x-python",
   "name": "python",
   "nbconvert_exporter": "python",
   "pygments_lexer": "ipython3",
   "version": "3.8.3"
  }
 },
 "nbformat": 4,
 "nbformat_minor": 5
}
