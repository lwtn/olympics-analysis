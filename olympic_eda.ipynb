{
 "cells": [
  {
   "cell_type": "code",
   "execution_count": 1,
   "id": "79cd7c7a",
   "metadata": {},
   "outputs": [],
   "source": [
    "import pandas as pd\n",
    "import numpy as np\n",
    "import seaborn as sb\n",
    "import matplotlib.pyplot as plt"
   ]
  },
  {
   "cell_type": "code",
   "execution_count": 2,
   "id": "c5f00239",
   "metadata": {},
   "outputs": [],
   "source": [
    "data = pd.read_csv(\"athlete_events.csv\")"
   ]
  },
  {
   "cell_type": "markdown",
   "id": "d523932c",
   "metadata": {},
   "source": [
    "# Olympic Data EDA\n",
    "---\n",
    "1. Data Exploration\n",
    "2. Data Cleaning\n",
    "3. Select Top 10 popular Sports for Analysis\n",
    "4. Split the DataFrame by Gender\n",
    "5. Data Cleaning: Filling in NULL values for Medals, Height and Weight of Athletes"
   ]
  },
  {
   "cell_type": "markdown",
   "id": "ca30bb53",
   "metadata": {},
   "source": [
    "## Data Exploration"
   ]
  },
  {
   "cell_type": "code",
   "execution_count": 3,
   "id": "99067acb",
   "metadata": {},
   "outputs": [
    {
     "data": {
      "text/html": [
       "<div>\n",
       "<style scoped>\n",
       "    .dataframe tbody tr th:only-of-type {\n",
       "        vertical-align: middle;\n",
       "    }\n",
       "\n",
       "    .dataframe tbody tr th {\n",
       "        vertical-align: top;\n",
       "    }\n",
       "\n",
       "    .dataframe thead th {\n",
       "        text-align: right;\n",
       "    }\n",
       "</style>\n",
       "<table border=\"1\" class=\"dataframe\">\n",
       "  <thead>\n",
       "    <tr style=\"text-align: right;\">\n",
       "      <th></th>\n",
       "      <th>ID</th>\n",
       "      <th>Name</th>\n",
       "      <th>Sex</th>\n",
       "      <th>Age</th>\n",
       "      <th>Height</th>\n",
       "      <th>Weight</th>\n",
       "      <th>Team</th>\n",
       "      <th>NOC</th>\n",
       "      <th>Games</th>\n",
       "      <th>Year</th>\n",
       "      <th>Season</th>\n",
       "      <th>City</th>\n",
       "      <th>Sport</th>\n",
       "      <th>Event</th>\n",
       "      <th>Medal</th>\n",
       "    </tr>\n",
       "  </thead>\n",
       "  <tbody>\n",
       "    <tr>\n",
       "      <th>0</th>\n",
       "      <td>1</td>\n",
       "      <td>A Dijiang</td>\n",
       "      <td>M</td>\n",
       "      <td>24.0</td>\n",
       "      <td>180.0</td>\n",
       "      <td>80.0</td>\n",
       "      <td>China</td>\n",
       "      <td>CHN</td>\n",
       "      <td>1992 Summer</td>\n",
       "      <td>1992</td>\n",
       "      <td>Summer</td>\n",
       "      <td>Barcelona</td>\n",
       "      <td>Basketball</td>\n",
       "      <td>Basketball Men's Basketball</td>\n",
       "      <td>NaN</td>\n",
       "    </tr>\n",
       "    <tr>\n",
       "      <th>1</th>\n",
       "      <td>2</td>\n",
       "      <td>A Lamusi</td>\n",
       "      <td>M</td>\n",
       "      <td>23.0</td>\n",
       "      <td>170.0</td>\n",
       "      <td>60.0</td>\n",
       "      <td>China</td>\n",
       "      <td>CHN</td>\n",
       "      <td>2012 Summer</td>\n",
       "      <td>2012</td>\n",
       "      <td>Summer</td>\n",
       "      <td>London</td>\n",
       "      <td>Judo</td>\n",
       "      <td>Judo Men's Extra-Lightweight</td>\n",
       "      <td>NaN</td>\n",
       "    </tr>\n",
       "    <tr>\n",
       "      <th>2</th>\n",
       "      <td>3</td>\n",
       "      <td>Gunnar Nielsen Aaby</td>\n",
       "      <td>M</td>\n",
       "      <td>24.0</td>\n",
       "      <td>NaN</td>\n",
       "      <td>NaN</td>\n",
       "      <td>Denmark</td>\n",
       "      <td>DEN</td>\n",
       "      <td>1920 Summer</td>\n",
       "      <td>1920</td>\n",
       "      <td>Summer</td>\n",
       "      <td>Antwerpen</td>\n",
       "      <td>Football</td>\n",
       "      <td>Football Men's Football</td>\n",
       "      <td>NaN</td>\n",
       "    </tr>\n",
       "    <tr>\n",
       "      <th>3</th>\n",
       "      <td>4</td>\n",
       "      <td>Edgar Lindenau Aabye</td>\n",
       "      <td>M</td>\n",
       "      <td>34.0</td>\n",
       "      <td>NaN</td>\n",
       "      <td>NaN</td>\n",
       "      <td>Denmark/Sweden</td>\n",
       "      <td>DEN</td>\n",
       "      <td>1900 Summer</td>\n",
       "      <td>1900</td>\n",
       "      <td>Summer</td>\n",
       "      <td>Paris</td>\n",
       "      <td>Tug-Of-War</td>\n",
       "      <td>Tug-Of-War Men's Tug-Of-War</td>\n",
       "      <td>Gold</td>\n",
       "    </tr>\n",
       "    <tr>\n",
       "      <th>4</th>\n",
       "      <td>5</td>\n",
       "      <td>Christine Jacoba Aaftink</td>\n",
       "      <td>F</td>\n",
       "      <td>21.0</td>\n",
       "      <td>185.0</td>\n",
       "      <td>82.0</td>\n",
       "      <td>Netherlands</td>\n",
       "      <td>NED</td>\n",
       "      <td>1988 Winter</td>\n",
       "      <td>1988</td>\n",
       "      <td>Winter</td>\n",
       "      <td>Calgary</td>\n",
       "      <td>Speed Skating</td>\n",
       "      <td>Speed Skating Women's 500 metres</td>\n",
       "      <td>NaN</td>\n",
       "    </tr>\n",
       "    <tr>\n",
       "      <th>...</th>\n",
       "      <td>...</td>\n",
       "      <td>...</td>\n",
       "      <td>...</td>\n",
       "      <td>...</td>\n",
       "      <td>...</td>\n",
       "      <td>...</td>\n",
       "      <td>...</td>\n",
       "      <td>...</td>\n",
       "      <td>...</td>\n",
       "      <td>...</td>\n",
       "      <td>...</td>\n",
       "      <td>...</td>\n",
       "      <td>...</td>\n",
       "      <td>...</td>\n",
       "      <td>...</td>\n",
       "    </tr>\n",
       "    <tr>\n",
       "      <th>271111</th>\n",
       "      <td>135569</td>\n",
       "      <td>Andrzej ya</td>\n",
       "      <td>M</td>\n",
       "      <td>29.0</td>\n",
       "      <td>179.0</td>\n",
       "      <td>89.0</td>\n",
       "      <td>Poland-1</td>\n",
       "      <td>POL</td>\n",
       "      <td>1976 Winter</td>\n",
       "      <td>1976</td>\n",
       "      <td>Winter</td>\n",
       "      <td>Innsbruck</td>\n",
       "      <td>Luge</td>\n",
       "      <td>Luge Mixed (Men)'s Doubles</td>\n",
       "      <td>NaN</td>\n",
       "    </tr>\n",
       "    <tr>\n",
       "      <th>271112</th>\n",
       "      <td>135570</td>\n",
       "      <td>Piotr ya</td>\n",
       "      <td>M</td>\n",
       "      <td>27.0</td>\n",
       "      <td>176.0</td>\n",
       "      <td>59.0</td>\n",
       "      <td>Poland</td>\n",
       "      <td>POL</td>\n",
       "      <td>2014 Winter</td>\n",
       "      <td>2014</td>\n",
       "      <td>Winter</td>\n",
       "      <td>Sochi</td>\n",
       "      <td>Ski Jumping</td>\n",
       "      <td>Ski Jumping Men's Large Hill, Individual</td>\n",
       "      <td>NaN</td>\n",
       "    </tr>\n",
       "    <tr>\n",
       "      <th>271113</th>\n",
       "      <td>135570</td>\n",
       "      <td>Piotr ya</td>\n",
       "      <td>M</td>\n",
       "      <td>27.0</td>\n",
       "      <td>176.0</td>\n",
       "      <td>59.0</td>\n",
       "      <td>Poland</td>\n",
       "      <td>POL</td>\n",
       "      <td>2014 Winter</td>\n",
       "      <td>2014</td>\n",
       "      <td>Winter</td>\n",
       "      <td>Sochi</td>\n",
       "      <td>Ski Jumping</td>\n",
       "      <td>Ski Jumping Men's Large Hill, Team</td>\n",
       "      <td>NaN</td>\n",
       "    </tr>\n",
       "    <tr>\n",
       "      <th>271114</th>\n",
       "      <td>135571</td>\n",
       "      <td>Tomasz Ireneusz ya</td>\n",
       "      <td>M</td>\n",
       "      <td>30.0</td>\n",
       "      <td>185.0</td>\n",
       "      <td>96.0</td>\n",
       "      <td>Poland</td>\n",
       "      <td>POL</td>\n",
       "      <td>1998 Winter</td>\n",
       "      <td>1998</td>\n",
       "      <td>Winter</td>\n",
       "      <td>Nagano</td>\n",
       "      <td>Bobsleigh</td>\n",
       "      <td>Bobsleigh Men's Four</td>\n",
       "      <td>NaN</td>\n",
       "    </tr>\n",
       "    <tr>\n",
       "      <th>271115</th>\n",
       "      <td>135571</td>\n",
       "      <td>Tomasz Ireneusz ya</td>\n",
       "      <td>M</td>\n",
       "      <td>34.0</td>\n",
       "      <td>185.0</td>\n",
       "      <td>96.0</td>\n",
       "      <td>Poland</td>\n",
       "      <td>POL</td>\n",
       "      <td>2002 Winter</td>\n",
       "      <td>2002</td>\n",
       "      <td>Winter</td>\n",
       "      <td>Salt Lake City</td>\n",
       "      <td>Bobsleigh</td>\n",
       "      <td>Bobsleigh Men's Four</td>\n",
       "      <td>NaN</td>\n",
       "    </tr>\n",
       "  </tbody>\n",
       "</table>\n",
       "<p>271116 rows × 15 columns</p>\n",
       "</div>"
      ],
      "text/plain": [
       "            ID                      Name Sex   Age  Height  Weight  \\\n",
       "0            1                 A Dijiang   M  24.0   180.0    80.0   \n",
       "1            2                  A Lamusi   M  23.0   170.0    60.0   \n",
       "2            3       Gunnar Nielsen Aaby   M  24.0     NaN     NaN   \n",
       "3            4      Edgar Lindenau Aabye   M  34.0     NaN     NaN   \n",
       "4            5  Christine Jacoba Aaftink   F  21.0   185.0    82.0   \n",
       "...        ...                       ...  ..   ...     ...     ...   \n",
       "271111  135569                Andrzej ya   M  29.0   179.0    89.0   \n",
       "271112  135570                  Piotr ya   M  27.0   176.0    59.0   \n",
       "271113  135570                  Piotr ya   M  27.0   176.0    59.0   \n",
       "271114  135571        Tomasz Ireneusz ya   M  30.0   185.0    96.0   \n",
       "271115  135571        Tomasz Ireneusz ya   M  34.0   185.0    96.0   \n",
       "\n",
       "                  Team  NOC        Games  Year  Season            City  \\\n",
       "0                China  CHN  1992 Summer  1992  Summer       Barcelona   \n",
       "1                China  CHN  2012 Summer  2012  Summer          London   \n",
       "2              Denmark  DEN  1920 Summer  1920  Summer       Antwerpen   \n",
       "3       Denmark/Sweden  DEN  1900 Summer  1900  Summer           Paris   \n",
       "4          Netherlands  NED  1988 Winter  1988  Winter         Calgary   \n",
       "...                ...  ...          ...   ...     ...             ...   \n",
       "271111        Poland-1  POL  1976 Winter  1976  Winter       Innsbruck   \n",
       "271112          Poland  POL  2014 Winter  2014  Winter           Sochi   \n",
       "271113          Poland  POL  2014 Winter  2014  Winter           Sochi   \n",
       "271114          Poland  POL  1998 Winter  1998  Winter          Nagano   \n",
       "271115          Poland  POL  2002 Winter  2002  Winter  Salt Lake City   \n",
       "\n",
       "                Sport                                     Event Medal  \n",
       "0          Basketball               Basketball Men's Basketball   NaN  \n",
       "1                Judo              Judo Men's Extra-Lightweight   NaN  \n",
       "2            Football                   Football Men's Football   NaN  \n",
       "3          Tug-Of-War               Tug-Of-War Men's Tug-Of-War  Gold  \n",
       "4       Speed Skating          Speed Skating Women's 500 metres   NaN  \n",
       "...               ...                                       ...   ...  \n",
       "271111           Luge                Luge Mixed (Men)'s Doubles   NaN  \n",
       "271112    Ski Jumping  Ski Jumping Men's Large Hill, Individual   NaN  \n",
       "271113    Ski Jumping        Ski Jumping Men's Large Hill, Team   NaN  \n",
       "271114      Bobsleigh                      Bobsleigh Men's Four   NaN  \n",
       "271115      Bobsleigh                      Bobsleigh Men's Four   NaN  \n",
       "\n",
       "[271116 rows x 15 columns]"
      ]
     },
     "execution_count": 3,
     "metadata": {},
     "output_type": "execute_result"
    }
   ],
   "source": [
    "data"
   ]
  },
  {
   "cell_type": "code",
   "execution_count": 4,
   "id": "e0722fdb",
   "metadata": {},
   "outputs": [
    {
     "data": {
      "text/plain": [
       "ID          int64\n",
       "Name       object\n",
       "Sex        object\n",
       "Age       float64\n",
       "Height    float64\n",
       "Weight    float64\n",
       "Team       object\n",
       "NOC        object\n",
       "Games      object\n",
       "Year        int64\n",
       "Season     object\n",
       "City       object\n",
       "Sport      object\n",
       "Event      object\n",
       "Medal      object\n",
       "dtype: object"
      ]
     },
     "execution_count": 4,
     "metadata": {},
     "output_type": "execute_result"
    }
   ],
   "source": [
    "data.dtypes"
   ]
  },
  {
   "cell_type": "code",
   "execution_count": 5,
   "id": "a3fa04e5",
   "metadata": {},
   "outputs": [
    {
     "data": {
      "text/plain": [
       "ID             0\n",
       "Name           0\n",
       "Sex            0\n",
       "Age         9474\n",
       "Height     60171\n",
       "Weight     62875\n",
       "Team           0\n",
       "NOC            0\n",
       "Games          0\n",
       "Year           0\n",
       "Season         0\n",
       "City           0\n",
       "Sport          0\n",
       "Event          0\n",
       "Medal     231333\n",
       "dtype: int64"
      ]
     },
     "execution_count": 5,
     "metadata": {},
     "output_type": "execute_result"
    }
   ],
   "source": [
    "data.isnull().sum()"
   ]
  },
  {
   "cell_type": "markdown",
   "id": "02dc894e",
   "metadata": {},
   "source": [
    "## Data Cleaning"
   ]
  },
  {
   "cell_type": "code",
   "execution_count": 6,
   "id": "fcd7f23b",
   "metadata": {},
   "outputs": [],
   "source": [
    "#As the scope of our problem focuses on the summer olympics, we will drop those that took place in the winter\n",
    "data.drop(data[data.Season == 'Winter'].index, inplace=True)\n",
    "\n",
    "#We will narrow our scope down to the past 5 olympics i.e. 2000, 2004, 2008, 2012, 2016\n",
    "data.drop(data[data.Year < 2000].index, inplace = True)"
   ]
  },
  {
   "cell_type": "markdown",
   "id": "0b0e5699",
   "metadata": {},
   "source": [
    "## Choosing 9 Sports for Analysis"
   ]
  },
  {
   "cell_type": "code",
   "execution_count": 7,
   "id": "a84ad930",
   "metadata": {},
   "outputs": [
    {
     "data": {
      "text/plain": [
       "Athletics                11673\n",
       "Swimming                  8214\n",
       "Gymnastics                5000\n",
       "Cycling                   3192\n",
       "Shooting                  2849\n",
       "Rowing                    2783\n",
       "Football                  2225\n",
       "Canoeing                  2177\n",
       "Sailing                   1962\n",
       "Judo                      1941\n",
       "Hockey                    1866\n",
       "Equestrianism             1711\n",
       "Fencing                   1695\n",
       "Handball                  1694\n",
       "Wrestling                 1684\n",
       "Boxing                    1436\n",
       "Basketball                1428\n",
       "Volleyball                1415\n",
       "Tennis                    1326\n",
       "Water Polo                1257\n",
       "Weightlifting             1255\n",
       "Table Tennis              1250\n",
       "Archery                   1012\n",
       "Diving                     975\n",
       "Badminton                  968\n",
       "Taekwondo                  606\n",
       "Synchronized Swimming      586\n",
       "Baseball                   574\n",
       "Triathlon                  529\n",
       "Beach Volleyball           480\n",
       "Rhythmic Gymnastics        454\n",
       "Softball                   358\n",
       "Modern Pentathlon          328\n",
       "Rugby Sevens               299\n",
       "Trampolining               152\n",
       "Golf                       120\n",
       "Name: Sport, dtype: int64"
      ]
     },
     "execution_count": 7,
     "metadata": {},
     "output_type": "execute_result"
    }
   ],
   "source": [
    "data.Sport.value_counts().head(60)"
   ]
  },
  {
   "cell_type": "code",
   "execution_count": 8,
   "id": "e4b89ea9",
   "metadata": {},
   "outputs": [],
   "source": [
    "sports = ['Swimming', 'Basketball', 'Hockey', 'Football', 'Athletics', 'Weightlifting', 'Tennis', 'Archery',\n",
    "'Badminton']"
   ]
  },
  {
   "cell_type": "code",
   "execution_count": 9,
   "id": "71f3b34a",
   "metadata": {},
   "outputs": [
    {
     "data": {
      "text/html": [
       "<div>\n",
       "<style scoped>\n",
       "    .dataframe tbody tr th:only-of-type {\n",
       "        vertical-align: middle;\n",
       "    }\n",
       "\n",
       "    .dataframe tbody tr th {\n",
       "        vertical-align: top;\n",
       "    }\n",
       "\n",
       "    .dataframe thead th {\n",
       "        text-align: right;\n",
       "    }\n",
       "</style>\n",
       "<table border=\"1\" class=\"dataframe\">\n",
       "  <thead>\n",
       "    <tr style=\"text-align: right;\">\n",
       "      <th></th>\n",
       "      <th>ID</th>\n",
       "      <th>Name</th>\n",
       "      <th>Sex</th>\n",
       "      <th>Age</th>\n",
       "      <th>Height</th>\n",
       "      <th>Weight</th>\n",
       "      <th>Team</th>\n",
       "      <th>NOC</th>\n",
       "      <th>Games</th>\n",
       "      <th>Year</th>\n",
       "      <th>Season</th>\n",
       "      <th>City</th>\n",
       "      <th>Sport</th>\n",
       "      <th>Event</th>\n",
       "      <th>Medal</th>\n",
       "    </tr>\n",
       "  </thead>\n",
       "  <tbody>\n",
       "    <tr>\n",
       "      <th>103</th>\n",
       "      <td>36</td>\n",
       "      <td>Stefan Remco Aartsen</td>\n",
       "      <td>M</td>\n",
       "      <td>25.0</td>\n",
       "      <td>194.0</td>\n",
       "      <td>78.0</td>\n",
       "      <td>Netherlands</td>\n",
       "      <td>NED</td>\n",
       "      <td>2000 Summer</td>\n",
       "      <td>2000</td>\n",
       "      <td>Summer</td>\n",
       "      <td>Sydney</td>\n",
       "      <td>Swimming</td>\n",
       "      <td>Swimming Men's 100 metres Butterfly</td>\n",
       "      <td>NaN</td>\n",
       "    </tr>\n",
       "    <tr>\n",
       "      <th>104</th>\n",
       "      <td>36</td>\n",
       "      <td>Stefan Remco Aartsen</td>\n",
       "      <td>M</td>\n",
       "      <td>25.0</td>\n",
       "      <td>194.0</td>\n",
       "      <td>78.0</td>\n",
       "      <td>Netherlands</td>\n",
       "      <td>NED</td>\n",
       "      <td>2000 Summer</td>\n",
       "      <td>2000</td>\n",
       "      <td>Summer</td>\n",
       "      <td>Sydney</td>\n",
       "      <td>Swimming</td>\n",
       "      <td>Swimming Men's 200 metres Butterfly</td>\n",
       "      <td>NaN</td>\n",
       "    </tr>\n",
       "    <tr>\n",
       "      <th>165</th>\n",
       "      <td>68</td>\n",
       "      <td>Pablo Martn Abal</td>\n",
       "      <td>M</td>\n",
       "      <td>23.0</td>\n",
       "      <td>178.0</td>\n",
       "      <td>76.0</td>\n",
       "      <td>Argentina</td>\n",
       "      <td>ARG</td>\n",
       "      <td>2000 Summer</td>\n",
       "      <td>2000</td>\n",
       "      <td>Summer</td>\n",
       "      <td>Sydney</td>\n",
       "      <td>Swimming</td>\n",
       "      <td>Swimming Men's 100 metres Butterfly</td>\n",
       "      <td>NaN</td>\n",
       "    </tr>\n",
       "    <tr>\n",
       "      <th>166</th>\n",
       "      <td>68</td>\n",
       "      <td>Pablo Martn Abal</td>\n",
       "      <td>M</td>\n",
       "      <td>23.0</td>\n",
       "      <td>178.0</td>\n",
       "      <td>76.0</td>\n",
       "      <td>Argentina</td>\n",
       "      <td>ARG</td>\n",
       "      <td>2000 Summer</td>\n",
       "      <td>2000</td>\n",
       "      <td>Summer</td>\n",
       "      <td>Sydney</td>\n",
       "      <td>Swimming</td>\n",
       "      <td>Swimming Men's 4 x 100 metres Medley Relay</td>\n",
       "      <td>NaN</td>\n",
       "    </tr>\n",
       "    <tr>\n",
       "      <th>244</th>\n",
       "      <td>120</td>\n",
       "      <td>Mohammed Abbas Sabih</td>\n",
       "      <td>M</td>\n",
       "      <td>26.0</td>\n",
       "      <td>170.0</td>\n",
       "      <td>70.0</td>\n",
       "      <td>Iraq</td>\n",
       "      <td>IRQ</td>\n",
       "      <td>2004 Summer</td>\n",
       "      <td>2004</td>\n",
       "      <td>Summer</td>\n",
       "      <td>Athina</td>\n",
       "      <td>Swimming</td>\n",
       "      <td>Swimming Men's 100 metres Freestyle</td>\n",
       "      <td>NaN</td>\n",
       "    </tr>\n",
       "    <tr>\n",
       "      <th>...</th>\n",
       "      <td>...</td>\n",
       "      <td>...</td>\n",
       "      <td>...</td>\n",
       "      <td>...</td>\n",
       "      <td>...</td>\n",
       "      <td>...</td>\n",
       "      <td>...</td>\n",
       "      <td>...</td>\n",
       "      <td>...</td>\n",
       "      <td>...</td>\n",
       "      <td>...</td>\n",
       "      <td>...</td>\n",
       "      <td>...</td>\n",
       "      <td>...</td>\n",
       "      <td>...</td>\n",
       "    </tr>\n",
       "    <tr>\n",
       "      <th>269792</th>\n",
       "      <td>134990</td>\n",
       "      <td>Misha Zilberman</td>\n",
       "      <td>M</td>\n",
       "      <td>27.0</td>\n",
       "      <td>171.0</td>\n",
       "      <td>61.0</td>\n",
       "      <td>Israel</td>\n",
       "      <td>ISR</td>\n",
       "      <td>2016 Summer</td>\n",
       "      <td>2016</td>\n",
       "      <td>Summer</td>\n",
       "      <td>Rio de Janeiro</td>\n",
       "      <td>Badminton</td>\n",
       "      <td>Badminton Men's Singles</td>\n",
       "      <td>NaN</td>\n",
       "    </tr>\n",
       "    <tr>\n",
       "      <th>270922</th>\n",
       "      <td>135484</td>\n",
       "      <td>Nikolay Vladimirovich Zuyev</td>\n",
       "      <td>M</td>\n",
       "      <td>37.0</td>\n",
       "      <td>180.0</td>\n",
       "      <td>83.0</td>\n",
       "      <td>Russia</td>\n",
       "      <td>RUS</td>\n",
       "      <td>2004 Summer</td>\n",
       "      <td>2004</td>\n",
       "      <td>Summer</td>\n",
       "      <td>Athina</td>\n",
       "      <td>Badminton</td>\n",
       "      <td>Badminton Mixed Doubles</td>\n",
       "      <td>NaN</td>\n",
       "    </tr>\n",
       "    <tr>\n",
       "      <th>271022</th>\n",
       "      <td>135528</td>\n",
       "      <td>Marc Zwiebler</td>\n",
       "      <td>M</td>\n",
       "      <td>24.0</td>\n",
       "      <td>181.0</td>\n",
       "      <td>75.0</td>\n",
       "      <td>Germany</td>\n",
       "      <td>GER</td>\n",
       "      <td>2008 Summer</td>\n",
       "      <td>2008</td>\n",
       "      <td>Summer</td>\n",
       "      <td>Beijing</td>\n",
       "      <td>Badminton</td>\n",
       "      <td>Badminton Men's Singles</td>\n",
       "      <td>NaN</td>\n",
       "    </tr>\n",
       "    <tr>\n",
       "      <th>271023</th>\n",
       "      <td>135528</td>\n",
       "      <td>Marc Zwiebler</td>\n",
       "      <td>M</td>\n",
       "      <td>28.0</td>\n",
       "      <td>181.0</td>\n",
       "      <td>75.0</td>\n",
       "      <td>Germany</td>\n",
       "      <td>GER</td>\n",
       "      <td>2012 Summer</td>\n",
       "      <td>2012</td>\n",
       "      <td>Summer</td>\n",
       "      <td>London</td>\n",
       "      <td>Badminton</td>\n",
       "      <td>Badminton Men's Singles</td>\n",
       "      <td>NaN</td>\n",
       "    </tr>\n",
       "    <tr>\n",
       "      <th>271024</th>\n",
       "      <td>135528</td>\n",
       "      <td>Marc Zwiebler</td>\n",
       "      <td>M</td>\n",
       "      <td>32.0</td>\n",
       "      <td>181.0</td>\n",
       "      <td>75.0</td>\n",
       "      <td>Germany</td>\n",
       "      <td>GER</td>\n",
       "      <td>2016 Summer</td>\n",
       "      <td>2016</td>\n",
       "      <td>Summer</td>\n",
       "      <td>Rio de Janeiro</td>\n",
       "      <td>Badminton</td>\n",
       "      <td>Badminton Men's Singles</td>\n",
       "      <td>NaN</td>\n",
       "    </tr>\n",
       "  </tbody>\n",
       "</table>\n",
       "<p>29967 rows × 15 columns</p>\n",
       "</div>"
      ],
      "text/plain": [
       "            ID                         Name Sex   Age  Height  Weight  \\\n",
       "103         36         Stefan Remco Aartsen   M  25.0   194.0    78.0   \n",
       "104         36         Stefan Remco Aartsen   M  25.0   194.0    78.0   \n",
       "165         68             Pablo Martn Abal   M  23.0   178.0    76.0   \n",
       "166         68             Pablo Martn Abal   M  23.0   178.0    76.0   \n",
       "244        120         Mohammed Abbas Sabih   M  26.0   170.0    70.0   \n",
       "...        ...                          ...  ..   ...     ...     ...   \n",
       "269792  134990              Misha Zilberman   M  27.0   171.0    61.0   \n",
       "270922  135484  Nikolay Vladimirovich Zuyev   M  37.0   180.0    83.0   \n",
       "271022  135528                Marc Zwiebler   M  24.0   181.0    75.0   \n",
       "271023  135528                Marc Zwiebler   M  28.0   181.0    75.0   \n",
       "271024  135528                Marc Zwiebler   M  32.0   181.0    75.0   \n",
       "\n",
       "               Team  NOC        Games  Year  Season            City  \\\n",
       "103     Netherlands  NED  2000 Summer  2000  Summer          Sydney   \n",
       "104     Netherlands  NED  2000 Summer  2000  Summer          Sydney   \n",
       "165       Argentina  ARG  2000 Summer  2000  Summer          Sydney   \n",
       "166       Argentina  ARG  2000 Summer  2000  Summer          Sydney   \n",
       "244            Iraq  IRQ  2004 Summer  2004  Summer          Athina   \n",
       "...             ...  ...          ...   ...     ...             ...   \n",
       "269792       Israel  ISR  2016 Summer  2016  Summer  Rio de Janeiro   \n",
       "270922       Russia  RUS  2004 Summer  2004  Summer          Athina   \n",
       "271022      Germany  GER  2008 Summer  2008  Summer         Beijing   \n",
       "271023      Germany  GER  2012 Summer  2012  Summer          London   \n",
       "271024      Germany  GER  2016 Summer  2016  Summer  Rio de Janeiro   \n",
       "\n",
       "            Sport                                       Event Medal  \n",
       "103      Swimming         Swimming Men's 100 metres Butterfly   NaN  \n",
       "104      Swimming         Swimming Men's 200 metres Butterfly   NaN  \n",
       "165      Swimming         Swimming Men's 100 metres Butterfly   NaN  \n",
       "166      Swimming  Swimming Men's 4 x 100 metres Medley Relay   NaN  \n",
       "244      Swimming         Swimming Men's 100 metres Freestyle   NaN  \n",
       "...           ...                                         ...   ...  \n",
       "269792  Badminton                     Badminton Men's Singles   NaN  \n",
       "270922  Badminton                     Badminton Mixed Doubles   NaN  \n",
       "271022  Badminton                     Badminton Men's Singles   NaN  \n",
       "271023  Badminton                     Badminton Men's Singles   NaN  \n",
       "271024  Badminton                     Badminton Men's Singles   NaN  \n",
       "\n",
       "[29967 rows x 15 columns]"
      ]
     },
     "execution_count": 9,
     "metadata": {},
     "output_type": "execute_result"
    }
   ],
   "source": [
    "#Creating a new dataframe consisting of these 10 sports only\n",
    "new_data = pd.DataFrame()\n",
    "for item in sports:\n",
    "    new_data = new_data.append(data[data['Sport']==item])\n",
    "new_data"
   ]
  },
  {
   "cell_type": "markdown",
   "id": "5b78f534",
   "metadata": {},
   "source": [
    "## Further Separating the DataFrame by Gender\n",
    "- <h4>as males and females have different biological physiology, we will separate them for a more accurate representation of the factors we are going to analyse "
   ]
  },
  {
   "cell_type": "code",
   "execution_count": 10,
   "id": "a58f9119",
   "metadata": {},
   "outputs": [],
   "source": [
    "male_data = new_data[new_data['Sex']=='M'].reset_index()\n",
    "male_data.drop(columns = 'index', inplace=True)\n",
    "\n",
    "female_data = new_data[new_data['Sex']=='F'].reset_index()\n",
    "female_data.drop(columns='index', inplace=True)"
   ]
  },
  {
   "cell_type": "markdown",
   "id": "581fc488",
   "metadata": {},
   "source": [
    "## Replacing Null Values in the Medal Column for Athletes who did not Win"
   ]
  },
  {
   "cell_type": "code",
   "execution_count": 11,
   "id": "f245275d",
   "metadata": {},
   "outputs": [],
   "source": [
    "male_data['Medal'].fillna('NA', inplace=True)\n",
    "female_data['Medal'].fillna('NA', inplace=True)"
   ]
  },
  {
   "cell_type": "markdown",
   "id": "35c11599",
   "metadata": {},
   "source": [
    "## Filling in Null Values for Height and Weight"
   ]
  },
  {
   "cell_type": "code",
   "execution_count": 12,
   "id": "273d8f41",
   "metadata": {},
   "outputs": [
    {
     "data": {
      "text/plain": [
       "ID          0\n",
       "Name        0\n",
       "Sex         0\n",
       "Age         0\n",
       "Height    254\n",
       "Weight    283\n",
       "Team        0\n",
       "NOC         0\n",
       "Games       0\n",
       "Year        0\n",
       "Season      0\n",
       "City        0\n",
       "Sport       0\n",
       "Event       0\n",
       "Medal       0\n",
       "dtype: int64"
      ]
     },
     "execution_count": 12,
     "metadata": {},
     "output_type": "execute_result"
    }
   ],
   "source": [
    "male_data.isnull().sum()"
   ]
  },
  {
   "cell_type": "code",
   "execution_count": 13,
   "id": "4d3edebe",
   "metadata": {},
   "outputs": [
    {
     "data": {
      "text/plain": [
       "ID          0\n",
       "Name        0\n",
       "Sex         0\n",
       "Age         0\n",
       "Height    139\n",
       "Weight    159\n",
       "Team        0\n",
       "NOC         0\n",
       "Games       0\n",
       "Year        0\n",
       "Season      0\n",
       "City        0\n",
       "Sport       0\n",
       "Event       0\n",
       "Medal       0\n",
       "dtype: int64"
      ]
     },
     "execution_count": 13,
     "metadata": {},
     "output_type": "execute_result"
    }
   ],
   "source": [
    "female_data.isnull().sum()"
   ]
  },
  {
   "cell_type": "code",
   "execution_count": 14,
   "id": "a00daa6d",
   "metadata": {},
   "outputs": [],
   "source": [
    "maleSwimming = male_data[male_data.Sport == 'Swimming']\n",
    "maleBasketball = male_data[male_data.Sport == 'Basketball']\n",
    "maleHockey = male_data[male_data.Sport == 'Hockey']\n",
    "maleFootball = male_data[male_data.Sport == 'Football']\n",
    "maleAthletics =male_data[male_data.Sport == 'Athletics']\n",
    "maleWeightlifting = male_data[male_data.Sport == 'Weightlifting']\n",
    "maleTennis = male_data[male_data.Sport == 'Tennis']\n",
    "maleArchery = male_data[male_data.Sport == 'Archery']\n",
    "maleBadminton = male_data[male_data.Sport == 'Badminton']\n",
    "\n",
    "maleDfList = [maleSwimming, maleBasketball, maleHockey, maleFootball, maleAthletics, maleWeightlifting, maleTennis, maleArchery, maleBadminton]"
   ]
  },
  {
   "cell_type": "code",
   "execution_count": 15,
   "id": "ca43e72d",
   "metadata": {},
   "outputs": [],
   "source": [
    "femaleSwimming = female_data[female_data.Sport == 'Swimming']\n",
    "femaleBasketball = female_data[female_data.Sport == 'Basketball']\n",
    "femaleHockey = female_data[female_data.Sport == 'Hockey']\n",
    "femaleFootball = female_data[female_data.Sport == 'Football']\n",
    "femaleAthletics = female_data[female_data.Sport == 'Athletics']\n",
    "femaleWeightlifting = female_data[female_data.Sport == 'Weightlifting']\n",
    "femaleTennis = female_data[female_data.Sport == 'Tennis']\n",
    "femaleArchery = female_data[female_data.Sport == 'Archery']\n",
    "femaleBadminton = female_data[female_data.Sport == 'Badminton']\n",
    "\n",
    "femaleDfList = [femaleSwimming, femaleBasketball, femaleHockey, femaleFootball, femaleAthletics, femaleWeightlifting, femaleTennis, femaleArchery, femaleBadminton]"
   ]
  },
  {
   "cell_type": "code",
   "execution_count": 16,
   "id": "ef8ae728",
   "metadata": {},
   "outputs": [],
   "source": [
    "NOClist = []\n",
    "for index, rows in data.iterrows():\n",
    "    if rows.NOC not in NOClist:\n",
    "        NOClist.append(rows.NOC)\n",
    "\n",
    "\n",
    "def getAvg2(df, NOC):\n",
    "    newDF = df[df.NOC==NOC]\n",
    "    return newDF.Height.describe()[1], newDF.Weight.describe()[1]"
   ]
  },
  {
   "cell_type": "code",
   "execution_count": 17,
   "id": "4b7b3c85",
   "metadata": {},
   "outputs": [
    {
     "name": "stderr",
     "output_type": "stream",
     "text": [
      "/Users/nicolelow/opt/anaconda3/lib/python3.8/site-packages/pandas/core/series.py:4463: SettingWithCopyWarning: \n",
      "A value is trying to be set on a copy of a slice from a DataFrame\n",
      "\n",
      "See the caveats in the documentation: https://pandas.pydata.org/pandas-docs/stable/user_guide/indexing.html#returning-a-view-versus-a-copy\n",
      "  return super().fillna(\n"
     ]
    }
   ],
   "source": [
    "for df in maleDfList:\n",
    "    for NOC in NOClist:\n",
    "        height, weight = getAvg2(df, NOC)\n",
    "        df['Height'].fillna(height, inplace=True)\n",
    "        df['Weight'].fillna(weight, inplace = True)"
   ]
  },
  {
   "cell_type": "code",
   "execution_count": 18,
   "id": "3ec16c7c",
   "metadata": {},
   "outputs": [],
   "source": [
    "for df in femaleDfList:\n",
    "    for NOC in NOClist:\n",
    "        height, weight = getAvg2(df, NOC)\n",
    "        df['Height'].fillna(height, inplace=True)\n",
    "        df['Weight'].fillna(weight, inplace = True)"
   ]
  },
  {
   "cell_type": "code",
   "execution_count": 19,
   "id": "006e7c5b",
   "metadata": {},
   "outputs": [],
   "source": [
    "clean_male_df = pd.DataFrame()\n",
    "for df in maleDfList:\n",
    "    clean_male_df = pd.concat([clean_male_df, df], axis=0)\n",
    "\n",
    "clean_female_df = pd.DataFrame()\n",
    "for df in femaleDfList:\n",
    "    clean_female_df = pd.concat([clean_female_df, df], axis=0)"
   ]
  },
  {
   "cell_type": "code",
   "execution_count": 20,
   "id": "a2785156",
   "metadata": {},
   "outputs": [
    {
     "data": {
      "text/plain": [
       "ID        0\n",
       "Name      0\n",
       "Sex       0\n",
       "Age       0\n",
       "Height    0\n",
       "Weight    0\n",
       "Team      0\n",
       "NOC       0\n",
       "Games     0\n",
       "Year      0\n",
       "Season    0\n",
       "City      0\n",
       "Sport     0\n",
       "Event     0\n",
       "Medal     0\n",
       "dtype: int64"
      ]
     },
     "execution_count": 20,
     "metadata": {},
     "output_type": "execute_result"
    }
   ],
   "source": [
    "clean_male_df.isnull().sum()"
   ]
  },
  {
   "cell_type": "code",
   "execution_count": 22,
   "id": "3c139ac0",
   "metadata": {},
   "outputs": [
    {
     "data": {
      "text/plain": [
       "ID        0\n",
       "Name      0\n",
       "Sex       0\n",
       "Age       0\n",
       "Height    0\n",
       "Weight    0\n",
       "Team      0\n",
       "NOC       0\n",
       "Games     0\n",
       "Year      0\n",
       "Season    0\n",
       "City      0\n",
       "Sport     0\n",
       "Event     0\n",
       "Medal     0\n",
       "dtype: int64"
      ]
     },
     "execution_count": 22,
     "metadata": {},
     "output_type": "execute_result"
    }
   ],
   "source": [
    "clean_female_df.isnull().sum()"
   ]
  },
  {
   "cell_type": "markdown",
   "id": "c29f07db",
   "metadata": {},
   "source": [
    "## Data Visualization"
   ]
  },
  {
   "cell_type": "code",
   "execution_count": 23,
   "id": "4c60563a",
   "metadata": {
    "scrolled": false
   },
   "outputs": [
    {
     "data": {
      "text/plain": [
       "<seaborn.axisgrid.FacetGrid at 0x7fa6700677f0>"
      ]
     },
     "execution_count": 23,
     "metadata": {},
     "output_type": "execute_result"
    },
    {
     "data": {
      "image/png": "[encoded data removed]",
      "text/plain": [
       "<Figure size 540x360 with 1 Axes>"
      ]
     },
     "metadata": {
      "needs_background": "light"
     },
     "output_type": "display_data"
    }
   ],
   "source": [
    "#Count of the 10 chosen sports\n",
    "sb.catplot(y = \"Sport\", data = clean_male_df, kind = 'count', order = clean_male_df.Sport.value_counts().index, aspect = 1.5)"
   ]
  },
  {
   "cell_type": "code",
   "execution_count": 24,
   "id": "617d3651",
   "metadata": {},
   "outputs": [
    {
     "data": {
      "text/html": [
       "<div>\n",
       "<style scoped>\n",
       "    .dataframe tbody tr th:only-of-type {\n",
       "        vertical-align: middle;\n",
       "    }\n",
       "\n",
       "    .dataframe tbody tr th {\n",
       "        vertical-align: top;\n",
       "    }\n",
       "\n",
       "    .dataframe thead th {\n",
       "        text-align: right;\n",
       "    }\n",
       "</style>\n",
       "<table border=\"1\" class=\"dataframe\">\n",
       "  <thead>\n",
       "    <tr style=\"text-align: right;\">\n",
       "      <th></th>\n",
       "      <th>Age</th>\n",
       "      <th>Height</th>\n",
       "      <th>Weight</th>\n",
       "    </tr>\n",
       "  </thead>\n",
       "  <tbody>\n",
       "    <tr>\n",
       "      <th>count</th>\n",
       "      <td>16087.000000</td>\n",
       "      <td>16087.000000</td>\n",
       "      <td>16087.000000</td>\n",
       "    </tr>\n",
       "    <tr>\n",
       "      <th>mean</th>\n",
       "      <td>25.012930</td>\n",
       "      <td>182.966683</td>\n",
       "      <td>79.014879</td>\n",
       "    </tr>\n",
       "    <tr>\n",
       "      <th>std</th>\n",
       "      <td>4.460662</td>\n",
       "      <td>9.541463</td>\n",
       "      <td>14.823423</td>\n",
       "    </tr>\n",
       "    <tr>\n",
       "      <th>min</th>\n",
       "      <td>13.000000</td>\n",
       "      <td>140.000000</td>\n",
       "      <td>45.000000</td>\n",
       "    </tr>\n",
       "    <tr>\n",
       "      <th>25%</th>\n",
       "      <td>22.000000</td>\n",
       "      <td>177.000000</td>\n",
       "      <td>70.000000</td>\n",
       "    </tr>\n",
       "    <tr>\n",
       "      <th>50%</th>\n",
       "      <td>24.000000</td>\n",
       "      <td>183.000000</td>\n",
       "      <td>77.000000</td>\n",
       "    </tr>\n",
       "    <tr>\n",
       "      <th>75%</th>\n",
       "      <td>28.000000</td>\n",
       "      <td>189.000000</td>\n",
       "      <td>85.000000</td>\n",
       "    </tr>\n",
       "    <tr>\n",
       "      <th>max</th>\n",
       "      <td>62.000000</td>\n",
       "      <td>226.000000</td>\n",
       "      <td>170.000000</td>\n",
       "    </tr>\n",
       "  </tbody>\n",
       "</table>\n",
       "</div>"
      ],
      "text/plain": [
       "                Age        Height        Weight\n",
       "count  16087.000000  16087.000000  16087.000000\n",
       "mean      25.012930    182.966683     79.014879\n",
       "std        4.460662      9.541463     14.823423\n",
       "min       13.000000    140.000000     45.000000\n",
       "25%       22.000000    177.000000     70.000000\n",
       "50%       24.000000    183.000000     77.000000\n",
       "75%       28.000000    189.000000     85.000000\n",
       "max       62.000000    226.000000    170.000000"
      ]
     },
     "execution_count": 24,
     "metadata": {},
     "output_type": "execute_result"
    }
   ],
   "source": [
    "#Numeric data\n",
    "m_numeric_data = pd.DataFrame(clean_male_df[[\"Age\", \"Height\", \"Weight\"]])\n",
    "m_numeric_data.describe()"
   ]
  },
  {
   "cell_type": "code",
   "execution_count": 25,
   "id": "4dfe7baf",
   "metadata": {},
   "outputs": [
    {
     "data": {
      "image/png": "[encoded data removed]",
      "text/plain": [
       "<Figure size 1296x864 with 9 Axes>"
      ]
     },
     "metadata": {
      "needs_background": "light"
     },
     "output_type": "display_data"
    }
   ],
   "source": [
    "f, axes = plt.subplots(3, 3, figsize=(18, 12))\n",
    "\n",
    "count = 0\n",
    "for var in m_numeric_data:\n",
    "    sb.boxplot(data = m_numeric_data[var], orient = \"h\", ax = axes[count,0])\n",
    "    sb.histplot(data = m_numeric_data[var], ax = axes[count,1])\n",
    "    sb.violinplot(data = m_numeric_data[var], orient = \"h\", ax = axes[count,2])\n",
    "    count += 1"
   ]
  },
  {
   "cell_type": "code",
   "execution_count": 26,
   "id": "d95ecb5e",
   "metadata": {
    "scrolled": false
   },
   "outputs": [
    {
     "data": {
      "text/plain": [
       "<AxesSubplot:xlabel='Age', ylabel='Medal'>"
      ]
     },
     "execution_count": 26,
     "metadata": {},
     "output_type": "execute_result"
    },
    {
     "data": {
      "image/png": "[encoded data removed]",
      "text/plain": [
       "<Figure size 1296x432 with 1 Axes>"
      ]
     },
     "metadata": {
      "needs_background": "light"
     },
     "output_type": "display_data"
    }
   ],
   "source": [
    "#boxplot for age and medal\n",
    "age_medal = pd.concat([clean_male_df.Age, clean_male_df.Medal], axis=1).reindex(clean_male_df.Age.index)\n",
    "f = plt.figure(figsize=(18, 6))\n",
    "sb.boxplot(x = \"Age\", y = \"Medal\", data = age_medal, orient = \"h\")"
   ]
  },
  {
   "cell_type": "code",
   "execution_count": 27,
   "id": "b2235a1a",
   "metadata": {},
   "outputs": [
    {
     "data": {
      "text/plain": [
       "<AxesSubplot:xlabel='Height', ylabel='Medal'>"
      ]
     },
     "execution_count": 27,
     "metadata": {},
     "output_type": "execute_result"
    },
    {
     "data": {
      "image/png": "[encoded data removed]",
      "text/plain": [
       "<Figure size 1296x432 with 1 Axes>"
      ]
     },
     "metadata": {
      "needs_background": "light"
     },
     "output_type": "display_data"
    }
   ],
   "source": [
    "#boxplot for height and medal\n",
    "height_medal = pd.concat([clean_male_df.Height, clean_male_df.Medal], axis=1).reindex(clean_male_df.Height.index)\n",
    "f = plt.figure(figsize=(18, 6))\n",
    "sb.boxplot(x = \"Height\", y = \"Medal\", data = height_medal, orient = \"h\")"
   ]
  },
  {
   "cell_type": "code",
   "execution_count": 28,
   "id": "ceb7ee33",
   "metadata": {},
   "outputs": [
    {
     "data": {
      "text/plain": [
       "<AxesSubplot:xlabel='Weight', ylabel='Medal'>"
      ]
     },
     "execution_count": 28,
     "metadata": {},
     "output_type": "execute_result"
    },
    {
     "data": {
      "image/png": "[encoded data removed]",
      "text/plain": [
       "<Figure size 1296x432 with 1 Axes>"
      ]
     },
     "metadata": {
      "needs_background": "light"
     },
     "output_type": "display_data"
    }
   ],
   "source": [
    "#boxplot for weight and medal\n",
    "weight_medal = pd.concat([clean_male_df.Weight, clean_male_df.Medal], axis=1).reindex(clean_male_df.Weight.index)\n",
    "f = plt.figure(figsize=(18, 6))\n",
    "sb.boxplot(x = \"Weight\", y = \"Medal\", data = weight_medal, orient = \"h\")"
   ]
  }
 ],
 "metadata": {
  "kernelspec": {
   "display_name": "Python 3 (ipykernel)",
   "language": "python",
   "name": "python3"
  },
  "language_info": {
   "codemirror_mode": {
    "name": "ipython",
    "version": 3
   },
   "file_extension": ".py",
   "mimetype": "text/x-python",
   "name": "python",
   "nbconvert_exporter": "python",
   "pygments_lexer": "ipython3",
   "version": "3.8.3"
  }
 },
 "nbformat": 4,
 "nbformat_minor": 5
}
